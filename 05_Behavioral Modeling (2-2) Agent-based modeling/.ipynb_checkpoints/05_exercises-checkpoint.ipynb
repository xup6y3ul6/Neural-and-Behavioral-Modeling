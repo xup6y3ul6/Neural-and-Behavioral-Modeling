{
 "cells": [
  {
   "cell_type": "markdown",
   "metadata": {},
   "source": [
    "# Neural & Behavioral Modeling - Week 5 (Exercises)\n",
    "by Your Name (Your Email)"
   ]
  },
  {
   "cell_type": "code",
   "execution_count": 4,
   "metadata": {
    "collapsed": true
   },
   "outputs": [],
   "source": [
    "%config IPCompleter.greedy=True \n",
    "%matplotlib inline\n",
    "from numpy import *\n",
    "from matplotlib.pyplot import *\n",
    "from IPython.display import *"
   ]
  },
  {
   "cell_type": "markdown",
   "metadata": {},
   "source": [
    "## 1 Replicate exisiting findings/models (10 points)\n",
    "Based on your personal interest, please choose and replicate ONE of the following studies:\n",
    "\n",
    "1. [Flocking Vee Formations](http://ccl.northwestern.edu/netlogo/models/FlockingVeeFormations) in NetLogo's [Sample Models::Biology] \n",
    "\n",
    "2. [Wolf-Sheep Predation](http://ccl.northwestern.edu/netlogo/models/WolfSheepPredation) in NetLogo's [Sample Models::Biology] \n",
    "\n",
    "3. [MIT Matching Game](https://kknews.cc/zh-tw/news/p56pbrp.html)\n",
    "\n",
    "4. Gray, K., Rand, D. G., Ert, E., Lewis, K., Hershman, S., & Norton, M. I. (2014). [The emergence of “us and them” in 80 lines of code: Modeling group genesis in homogeneous populations](). Psychological Science, 25(4), 982-990.\n",
    "\n",
    "5. Luhmann, C. C., & Rajaram, S. (2015). [Memory transmission in small groups and large networks: An agent-based model](http://journals.sagepub.com/doi/abs/10.1177/0956797615605798). Psychological Science, 26(12), 1909-1917.\n",
    "\n",
    "6. Henriques, G. J., Simon, B., Ispolatov, Y., & Doebeli, M. (2019). [Acculturation drives the evolution of intergroup conflict](https://www.pnas.org/content/116/28/14089). Proceedings of the National Academy of Sciences, 116(28), 14089-14097."
   ]
  },
  {
   "cell_type": "code",
   "execution_count": 1,
   "metadata": {
    "collapsed": true
   },
   "outputs": [],
   "source": [
    "# Write your codes here"
   ]
  }
 ],
 "metadata": {
  "kernelspec": {
   "display_name": "Python 3",
   "language": "python",
   "name": "python3"
  },
  "language_info": {
   "codemirror_mode": {
    "name": "ipython",
    "version": 3
   },
   "file_extension": ".py",
   "mimetype": "text/x-python",
   "name": "python",
   "nbconvert_exporter": "python",
   "pygments_lexer": "ipython3",
   "version": "3.7.4"
  }
 },
 "nbformat": 4,
 "nbformat_minor": 2
}
