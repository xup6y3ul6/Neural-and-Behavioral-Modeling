{
  "nbformat": 4,
  "nbformat_minor": 0,
  "metadata": {
    "kernelspec": {
      "display_name": "Python 3",
      "language": "python",
      "name": "python3"
    },
    "language_info": {
      "codemirror_mode": {
        "name": "ipython",
        "version": 3
      },
      "file_extension": ".py",
      "mimetype": "text/x-python",
      "name": "python",
      "nbconvert_exporter": "python",
      "pygments_lexer": "ipython3",
      "version": "3.7.4-final"
    },
    "colab": {
      "name": "11_exercises.ipynb",
      "provenance": [],
      "collapsed_sections": []
    },
    "accelerator": "GPU"
  },
  "cells": [
    {
      "cell_type": "markdown",
      "metadata": {
        "id": "vx0LreVaf-EI"
      },
      "source": [
        "# Neural & Behavioral Modeling - Week 11 (Exercises)\n",
        "by 林子堯 (r08227112@ntu.edu.tw)"
      ]
    },
    {
      "cell_type": "code",
      "metadata": {
        "colab": {
          "base_uri": "https://localhost:8080/"
        },
        "id": "623H10WLf-EI",
        "outputId": "9e7ed2d9-6fcf-46ef-8f94-ad41cd7278c0"
      },
      "source": [
        "# Upgrade PyTorch if necessary:\n",
        "! conda install -y pytorch-cpu torchvision-cpu -c pytorch"
      ],
      "execution_count": 17,
      "outputs": [
        {
          "output_type": "stream",
          "text": [
            "/bin/bash: conda: command not found\n"
          ],
          "name": "stdout"
        }
      ]
    },
    {
      "cell_type": "code",
      "metadata": {
        "id": "Zr1hayaHf-EJ"
      },
      "source": [
        "%config IPCompleter.greedy=True \n",
        "%matplotlib inline\n",
        "from matplotlib.pyplot import *\n",
        "from IPython.display import *\n",
        "import numpy as np"
      ],
      "execution_count": 18,
      "outputs": []
    },
    {
      "cell_type": "code",
      "metadata": {
        "colab": {
          "base_uri": "https://localhost:8080/"
        },
        "id": "XqcepuxZf-EJ",
        "outputId": "1659a19a-e78e-4bbc-a5db-0572d72432d3"
      },
      "source": [
        "# Check GPU status:\n",
        "import torch as t\n",
        "print('PyTorch version:',t.__version__)\n",
        "if(t.cuda.is_available()):\n",
        "    for i in range(t.cuda.device_count()):\n",
        "        print('Device ',i,':',t.cuda.get_device_name(i))\n",
        "    print('Current: Device ',t.cuda.current_device())\n",
        "    t.backends.cudnn.benchmark = True \n",
        "else:\n",
        "    print('No GPU')"
      ],
      "execution_count": 19,
      "outputs": [
        {
          "output_type": "stream",
          "text": [
            "PyTorch version: 1.7.0+cu101\n",
            "Device  0 : Tesla P4\n",
            "Current: Device  0\n"
          ],
          "name": "stdout"
        }
      ]
    },
    {
      "cell_type": "markdown",
      "metadata": {
        "id": "yhREveqCf-EK"
      },
      "source": [
        "## 1 Tuning the performance of a neural net (10 points)"
      ]
    },
    {
      "cell_type": "markdown",
      "metadata": {
        "id": "a0LbQYXtf-EK"
      },
      "source": [
        "### 1.1 Problem\n",
        "In the section 4.1 of 11_examples.ipynb, the neural network implemented in NumPy with two hidden layers could reach 90% classification accuracy on the MNIST training data only within 3 learning epochs:\n",
        "\n",
        "<pre>\n",
        "model=MultiLayerNetExtend(input_size=784, hidden_size_list=[100, 100], output_size=10,\n",
        "                          weight_init_std=weight_init_std, use_batchnorm=True, use_dropout=True)\n",
        "</pre>\n",
        "\n",
        "However, in the section 4.2, a similar network implemented in PyTorch did not reached 90% clasification accuracy model on the MNIST training data: \n",
        "\n",
        "<pre>\n",
        "model = t.nn.Sequential(\n",
        "    t.nn.Linear(D_in, H),\n",
        "    t.nn.BatchNorm1d(H),\n",
        "    t.nn.ReLU(),\n",
        "    #t.nn.Dropout(p=0.5),\n",
        "    t.nn.Linear(H, H),\n",
        "    t.nn.BatchNorm1d(H),\n",
        "    t.nn.ReLU(),\n",
        "    #t.nn.Dropout(p=0.5),\n",
        "    t.nn.Linear(H, D_out),\n",
        "    t.nn.Softmax()\n",
        ")\n",
        "</pre>\n",
        "\n",
        "Your goal is to do whatever you can to help the PyTorch net reach 90% classification accuracy on the MNIST training data within 50 or less epochs."
      ]
    },
    {
      "cell_type": "markdown",
      "metadata": {
        "id": "RnPzYuWtf-EK"
      },
      "source": [
        "### 1.2 Tips\n",
        "\n",
        "First try to eliminate the differences between the NumPy net and the PyTorch net:\n",
        "\n",
        "(1) The PyTorch version did not use 50% Dropout.\n",
        "\n",
        "(2) The PyTorch used Adam with a learning rate of 1e-4 as an optimizer instead of SGD with a learning rate of 1e-2.\n",
        "\n",
        "(3) The PyTroch version did not use shuffled batch (100 samples) in each training epoch.\n",
        "\n",
        "(4) The NumPy version used He initialization on NORMAL W and ZEROED b:\n",
        "<pre>\n",
        "    def __init_weight(self, weight_init_std):\n",
        "\n",
        "        all_size_list = [self.input_size] + self.hidden_size_list + [self.output_size]\n",
        "        for idx in range(1, len(all_size_list)):\n",
        "            scale = weight_init_std\n",
        "            if str(weight_init_std).lower() in ('relu', 'he'):\n",
        "                <font color=\"red\">scale = np.sqrt(2.0 / all_size_list[idx - 1])  # for ReLu</font>\n",
        "            elif str(weight_init_std).lower() in ('sigmoid', 'xavier'):\n",
        "                scale = np.sqrt(1.0 / all_size_list[idx - 1])  # for Sigmoid\n",
        "            <font color=\"blue\">self.params['W' + str(idx)] = scale * np.random.randn(all_size_list[idx-1], all_size_list[idx])\n",
        "            self.params['b' + str(idx)] = np.zeros(all_size_list[idx])</font>\n",
        "</pre>\n",
        "\n",
        "However, the PyTroch version used Xavier initialization on UNIFORM W and b for <a href=\"https://github.com/pytorch/pytorch/blob/master/torch/nn/modules/linear.py#L44-L48\">linear layers</a>:\n",
        "\n",
        "<pre>\n",
        "    def __init__(self, in_features, out_features, bias=True):\n",
        "        super(Linear, self).__init__()\n",
        "        self.in_features = in_features\n",
        "        self.out_features = out_features\n",
        "        self.weight = Parameter(torch.Tensor(out_features, in_features))\n",
        "        if bias:\n",
        "            self.bias = Parameter(torch.Tensor(out_features))\n",
        "        else:\n",
        "            self.register_parameter('bias', None)\n",
        "        <font color=\"red\">self.reset_parameters()</font>\n",
        "<font color=\"blue\">\n",
        "    def reset_parameters(self):\n",
        "        stdv = 1. / math.sqrt(self.weight.size(1))\n",
        "        self.weight.data.uniform_(-stdv, stdv)\n",
        "        if self.bias is not None:\n",
        "            self.bias.data.uniform_(-stdv, stdv)\n",
        "</font>\n",
        "</pre>\n",
        "\n",
        "(5)If removal of the above differences does not help, look for other differences or do whatever you can to accelerate learning of the PyTorch net.\n",
        "\n",
        "<b>(6) Do not waste your time on checking out training results after 50 epochs! They have nothing to do with your goal here.</b>"
      ]
    },
    {
      "cell_type": "markdown",
      "metadata": {
        "id": "mawLoNjXf-EK"
      },
      "source": [
        "### 1.3 Your codes and discussions"
      ]
    },
    {
      "cell_type": "markdown",
      "metadata": {
        "id": "RuZ6Dl_Nf-EK"
      },
      "source": [
        "#### 1.3.1 The MNIST dataset"
      ]
    },
    {
      "cell_type": "code",
      "metadata": {
        "colab": {
          "base_uri": "https://localhost:8080/"
        },
        "id": "yT1wdgKtf-EK",
        "outputId": "e7bc441b-979a-4070-ca98-88b55a6ebe02"
      },
      "source": [
        "# Download the dataset:\n",
        "import urllib.request\n",
        "urllib.request.urlretrieve('https://github.com/mnielsen/neural-networks-and-deep-learning/raw/master/data/mnist.pkl.gz','mnist.pkl.gz')"
      ],
      "execution_count": 20,
      "outputs": [
        {
          "output_type": "execute_result",
          "data": {
            "text/plain": [
              "('mnist.pkl.gz', <http.client.HTTPMessage at 0x7f19ab80e390>)"
            ]
          },
          "metadata": {
            "tags": []
          },
          "execution_count": 20
        }
      ]
    },
    {
      "cell_type": "code",
      "metadata": {
        "colab": {
          "base_uri": "https://localhost:8080/",
          "height": 358
        },
        "id": "5n_IcDk3f-EL",
        "outputId": "6c52b98c-637c-4cdf-a47f-f3da5b52e995"
      },
      "source": [
        "# Load the dataset:\n",
        "import pickle, gzip\n",
        "f = gzip.open('mnist.pkl.gz','rb')\n",
        "train_set, valid_set, test_set = pickle.load(f,encoding='unicode-escape')\n",
        "f.close()\n",
        "x_train,y_train=train_set[0],train_set[1]\n",
        "x_valid,y_valid=valid_set[0],valid_set[1]\n",
        "x_test,y_test=test_set[0],test_set[1]\n",
        "\n",
        "# Examine the dataset:\n",
        "print(x_train.shape,y_train.shape,x_test.shape,y_test.shape)\n",
        "print(np.min(x_train),np.max(x_train),np.min(y_train),np.max(y_train))\n",
        "for i in range(50):\n",
        "    subplot(5,10,i+1)\n",
        "    imshow(x_test[i].reshape([28,28]),cmap='gray');\n",
        "    title(str(y_test[i]));\n",
        "    axis('off')\n",
        "    \n",
        "# Transform NumPy arrays to PyTorch tensors:\n",
        "use_cuda=t.cuda.is_available()\n",
        "\n",
        "X_train=t.from_numpy(x_train)\n",
        "Y_train=t.from_numpy(y_train)\n",
        "X_test=t.from_numpy(x_test)\n",
        "Y_test=t.from_numpy(y_test)\n",
        "\n",
        "if(use_cuda):\n",
        "    X_train=X_train.cuda()\n",
        "    Y_train=Y_train.cuda()\n",
        "    X_test=X_test.cuda()\n",
        "    Y_test=Y_test.cuda()"
      ],
      "execution_count": 21,
      "outputs": [
        {
          "output_type": "stream",
          "text": [
            "/usr/local/lib/python3.6/dist-packages/ipykernel_launcher.py:4: DeprecationWarning: invalid escape sequence '\\>'\n",
            "  after removing the cwd from sys.path.\n",
            "/usr/local/lib/python3.6/dist-packages/ipykernel_launcher.py:4: DeprecationWarning: invalid escape sequence '\\?'\n",
            "  after removing the cwd from sys.path.\n"
          ],
          "name": "stderr"
        },
        {
          "output_type": "stream",
          "text": [
            "(50000, 784) (50000,) (10000, 784) (10000,)\n",
            "0.0 0.99609375 0 9\n"
          ],
          "name": "stdout"
        },
        {
          "output_type": "display_data",
          "data": {
            "image/png": "[encoded data removed]",
            "text/plain": [
              "<Figure size 432x288 with 50 Axes>"
            ]
          },
          "metadata": {
            "tags": [],
            "needs_background": "light"
          }
        }
      ]
    },
    {
      "cell_type": "markdown",
      "metadata": {
        "id": "bLx5YRbKf-EL"
      },
      "source": [
        "#### 1.3.2 Your systematic explorations"
      ]
    },
    {
      "cell_type": "markdown",
      "metadata": {
        "id": "LsiZ3eexQFhX"
      },
      "source": [
        "原始老師在 [11_exercises.ipnb](https://github.com/xup6y3ul6/Neural-and-Behavioral-Modeling/blob/main/11_Deep-learning%20Neural%20Networks%20(1-4)%20Fully-Connected%20Multilayer%20Perceptron%20(MLP)/11_examples.ipynb) 的範例中，使用 Numpy 寫神經網路的模型來預測 MNIST 的訓練集，比起用 Pytorch 套件對相似的模型結構來說，學習效率要快許多。如下圖所示：\n",
        "\n",
        "<figure>\n",
        "  <img src=\"https://github.com/xup6y3ul6/Neural-and-Behavioral-Modeling/blob/main/11_Deep-learning%20Neural%20Networks%20(1-4)%20Fully-Connected%20Multilayer%20Perceptron%20(MLP)/numpy_acc.png?raw=true\" alt=\"drawing\" width=\"200\"/>\n",
        "  <figcaption>Fig1. Accuracy of 3-layer-NN by Numpy</figcaption>\n",
        "</figure>\n",
        "<figure>\n",
        "  <img src=\"https://github.com/xup6y3ul6/Neural-and-Behavioral-Modeling/blob/main/11_Deep-learning%20Neural%20Networks%20(1-4)%20Fully-Connected%20Multilayer%20Perceptron%20(MLP)/pytorch_acc.png?raw=true\" alt=\"drawing\" width=\"200\"/>\n",
        "  <figcaption>Fig2. Accuracy of 2-layer-NN by Pytorch</figcaption>\n",
        "</figure>\n",
        "\n",
        "前者在少量的 epoch 次數就達到　9 成的準確率，但後者似乎需要花更多的時間。然而這兩模型的參數與超參數設定上其實有許多差異：\n",
        "\n",
        "| Diff. | Numpy | Pytorch |\n",
        "|----|:----:|:----:|\n",
        "|1. Droupout | yes ($p=.5$) | no ($p=0$) |\n",
        "|2a. Optimizer | SDG | Adam |\n",
        "|2b. Learning rate | $10^{-2}$ | $10^{-4}$|\n",
        "|3. Batch size | 100 | 50000 (all traing size)|\n",
        "|4. Initialization | Xavier | He |\n",
        "|5. Model | 3 layers | 2 layers* |\n",
        "\n",
        "*對於上面的第五點，如果我將 Pytorch 改為 3 layers 的模型，其學習效率也沒有明顯改善。\n",
        "\n",
        "雖然說我個人認為這樣的比較其實蠻不公平的，Numpy 是以 shuffle batch (100 samples) 來進行參數的更新，因此計算一次 epoch 會經歷 $500 (= 50000/100)$ 次的迭代學習。然而在 Pytorch 的部分，每一次的迭代會用所有的 training data (50000 samples)，因此迭代一次就會算經歷一次 epoch！因此，我在老師原始的範例中，除了本來會顯示 epoch 外還多加顯示迭帶次數 (見 Fig 1 & 2)，其實可以觀察到如果我們比的是跟新次數的話，在同樣 500 次或是 1000 次的迭帶更新下，Numpy 和 Pytorch 分別在這兩個模型中準確率實際上是差不多的。所以我個人認為即便在這樣設計下，「Pytorch 沒有輸」!\n",
        "\n"
      ]
    },
    {
      "cell_type": "markdown",
      "metadata": {
        "id": "xe8EOa3DRvn5"
      },
      "source": [
        "但還是要寫作業，為了改善 Pytorch 的「學習效率」，我分別針對上述差異點進行改良："
      ]
    },
    {
      "cell_type": "code",
      "metadata": {
        "id": "_QXiUdVS9ug1"
      },
      "source": [
        "# Tip4: used He initialization on NORMAL W and ZEROED b\n",
        "def init_normal(m):\n",
        "  '''\n",
        "  initialization function, first checks the module type,\n",
        "  then applies the desired changes to the weights\n",
        "  https://pytorch.org/docs/stable/nn.init.html\n",
        "  '''\n",
        "  if type(m) == t.nn.Linear:  \n",
        "    t.nn.init.kaiming_normal_(m.weight, mode='fan_in', nonlinearity='relu')\n",
        "    t.nn.init.zeros_(m.bias)"
      ],
      "execution_count": 22,
      "outputs": []
    },
    {
      "cell_type": "code",
      "metadata": {
        "id": "y8elBZ1s8irv"
      },
      "source": [
        "def runModel(batch_size = X_train.shape[0], max_epochs = 5, learning_rate = 1e-4, \\\n",
        "             droupout_rate = 0, initialize = \"Xavier\", optim = \"Adam\"):\n",
        "  # Here is the PyTorch net:\n",
        "\n",
        "  D_in, H, D_out = 784,100,10\n",
        "  train_size = X_train.shape[0]\n",
        "  \n",
        "  # Training the network:\n",
        "  model = t.nn.Sequential(\n",
        "    t.nn.Linear(D_in, H),\n",
        "    t.nn.BatchNorm1d(H),\n",
        "    t.nn.ReLU(),\n",
        "    t.nn.Dropout(p=droupout_rate), # Tip1: add dropout layer with p (no dropout if p = 0)\n",
        "    t.nn.Linear(H, H),\n",
        "    t.nn.BatchNorm1d(H),\n",
        "    t.nn.ReLU(),\n",
        "    t.nn.Dropout(p=droupout_rate), # Tip1: add dropout layer with p (no dropout if p = 0)\n",
        "    t.nn.Linear(H, D_out),\n",
        "    t.nn.Softmax()\n",
        "  )\n",
        "                              \n",
        "  # Tip4: use the modules apply function to recursively apply the \"He\" initialization\n",
        "  if initialize == \"He\":\n",
        "    model.apply(init_normal)\n",
        "\n",
        "  loss_fn = t.nn.CrossEntropyLoss()\n",
        "  \n",
        "   \n",
        "  # Tip2a: change optimzer SDG (not momentum) or Adam, and\n",
        "  # Tip2b: change learning rate\n",
        "  if optim == \"SGD\":\n",
        "    optimizer = t.optim.SGD(model.parameters(), lr=learning_rate, momentum=0) \n",
        "  elif optim == \"Adam\":\n",
        "    optimizer = t.optim.Adam(model.parameters(), lr=learning_rate) #https://pytorch.org/docs/stable/optim.html\n",
        "\n",
        "  if(use_cuda):\n",
        "    model = model.cuda()\n",
        "    loss_fn = loss_fn.cuda()\n",
        "\n",
        "  iter_per_epoch = max(train_size / batch_size, 1) #\n",
        "  epoch_cnt = 0 #\n",
        "\n",
        "  for i in range(100000000): #\n",
        "    # Tip3: use shuffled batch (n samples) in each training epoch\n",
        "    batch_mask = t.multinomial(t.ones(train_size), batch_size)\n",
        "    X_batch = X_train[batch_mask]\n",
        "    Y_batch = Y_train[batch_mask]\n",
        "\n",
        "    # Forward pass:\n",
        "    # Y_pred = model(X_train)\n",
        "    Y_pred = model(X_batch)\n",
        "\n",
        "    loss = loss_fn(Y_pred, Y_batch)\n",
        "    \n",
        "    # Zero the gradients before running the backward pass.\n",
        "    model.zero_grad()\n",
        "\n",
        "    # Backward pass:\n",
        "    loss.backward()\n",
        "\n",
        "    # Update the weights using gradient descent:\n",
        "    optimizer.step()\n",
        "    \n",
        "    # Check training accuracy:\n",
        "    if i % iter_per_epoch == 0:\n",
        "      Y_pred = model(X_train) # Y_pred.shape=[50000,10]\n",
        "      Y_pred = t.max(Y_pred,1)[1] # Y_pred.shape=[50000]\n",
        "      print('epoch ',epoch_cnt, '(iter: ', i, ') | train_acc:'\\\n",
        "            ,(Y_pred==Y_train).sum().item()/Y_train.shape[0])\n",
        "      epoch_cnt += 1\n",
        "      if epoch_cnt >= max_epochs:\n",
        "        break    "
      ],
      "execution_count": 23,
      "outputs": []
    },
    {
      "cell_type": "markdown",
      "metadata": {
        "id": "-huRoTo_TtdU"
      },
      "source": [
        "#### 1.4.1 原始版本\n",
        "\n",
        "使用 pytorch 三層的 neural network model，其中這是老師一開始的設置，包括：\n",
        "\n",
        "- Tip1: No dropout\n",
        "- Tip2: Optimizer = \"Adam\" with learing_rate = 0.0001\n",
        "- Tip3: Use all train_data (50000 samples) in each training (1 epoch = 1 iteration)\n",
        "- Tip4: Initialize weights by Xaiver method\n",
        "- Diff5: Use 3-layer-nn\n",
        "\n",
        "結果如下"
      ]
    },
    {
      "cell_type": "code",
      "metadata": {
        "colab": {
          "base_uri": "https://localhost:8080/"
        },
        "id": "OG7n6Hn2-9hV",
        "outputId": "f09c346c-9eb9-4f87-ce3c-cb028e7fe367"
      },
      "source": [
        "runModel(batch_size = 50000, max_epochs = 20, learning_rate = 1e-4, \\\n",
        "         droupout_rate = 0, initialize = \"Xavier\", optim = \"Adam\")"
      ],
      "execution_count": 24,
      "outputs": [
        {
          "output_type": "stream",
          "text": [
            "/usr/local/lib/python3.6/dist-packages/torch/nn/modules/container.py:117: UserWarning: Implicit dimension choice for softmax has been deprecated. Change the call to include dim=X as an argument.\n",
            "  input = module(input)\n"
          ],
          "name": "stderr"
        },
        {
          "output_type": "stream",
          "text": [
            "epoch  0 (iter:  0 ) | train_acc: 0.06358\n",
            "epoch  1 (iter:  1 ) | train_acc: 0.07642\n",
            "epoch  2 (iter:  2 ) | train_acc: 0.09252\n",
            "epoch  3 (iter:  3 ) | train_acc: 0.11322\n",
            "epoch  4 (iter:  4 ) | train_acc: 0.13696\n",
            "epoch  5 (iter:  5 ) | train_acc: 0.16578\n",
            "epoch  6 (iter:  6 ) | train_acc: 0.19684\n",
            "epoch  7 (iter:  7 ) | train_acc: 0.2302\n",
            "epoch  8 (iter:  8 ) | train_acc: 0.26096\n",
            "epoch  9 (iter:  9 ) | train_acc: 0.29344\n",
            "epoch  10 (iter:  10 ) | train_acc: 0.32372\n",
            "epoch  11 (iter:  11 ) | train_acc: 0.35078\n",
            "epoch  12 (iter:  12 ) | train_acc: 0.37712\n",
            "epoch  13 (iter:  13 ) | train_acc: 0.4014\n",
            "epoch  14 (iter:  14 ) | train_acc: 0.4238\n",
            "epoch  15 (iter:  15 ) | train_acc: 0.445\n",
            "epoch  16 (iter:  16 ) | train_acc: 0.46362\n",
            "epoch  17 (iter:  17 ) | train_acc: 0.48226\n",
            "epoch  18 (iter:  18 ) | train_acc: 0.49918\n",
            "epoch  19 (iter:  19 ) | train_acc: 0.51504\n"
          ],
          "name": "stdout"
        }
      ]
    },
    {
      "cell_type": "markdown",
      "metadata": {
        "id": "bqJXoe1gUKrN"
      },
      "source": [
        "可以發現 (如果是用 epoch 來看的話啦) 此模型的學習效率是緩慢提升，當然它迭代更新的次數也沒那麼多。\n",
        "\n",
        "如果我們將模型設置改為老師用 Numpy 時的範例...\n"
      ]
    },
    {
      "cell_type": "markdown",
      "metadata": {
        "id": "B0vgo8WxTx3X"
      },
      "source": [
        "#### 1.4.2 Numpy 時的設置\n",
        "\n",
        "在此我們改變我們模型的參數設定，包括：\n",
        "\n",
        "- Tip1: Use dropout ($p = 0.5$)\n",
        "- Tip2: Optimizer = \"SGD\" with learing_rate = 0.01\n",
        "- Tip3: Shuffled batch with 100 samples in each train (1 epoch = 500 iteration)\n",
        "- Tip4: Initialize weights by He method\n",
        "- Diff5: Use 3-layer-nn\n",
        "\n",
        "結果如下"
      ]
    },
    {
      "cell_type": "code",
      "metadata": {
        "colab": {
          "base_uri": "https://localhost:8080/"
        },
        "id": "wSt3IeyVKN45",
        "outputId": "741c43d8-fcfa-4527-a6de-ebf74dfe77c6"
      },
      "source": [
        "runModel(batch_size = 100, max_epochs = 10, learning_rate = 1e-2, \\\n",
        "         droupout_rate = 0.5, initialize = \"He\", optim = \"SGD\")"
      ],
      "execution_count": 25,
      "outputs": [
        {
          "output_type": "stream",
          "text": [
            "epoch  0 (iter:  0 ) | train_acc: 0.0866\n"
          ],
          "name": "stdout"
        },
        {
          "output_type": "stream",
          "text": [
            "/usr/local/lib/python3.6/dist-packages/torch/nn/modules/container.py:117: UserWarning: Implicit dimension choice for softmax has been deprecated. Change the call to include dim=X as an argument.\n",
            "  input = module(input)\n"
          ],
          "name": "stderr"
        },
        {
          "output_type": "stream",
          "text": [
            "epoch  1 (iter:  500 ) | train_acc: 0.24862\n",
            "epoch  2 (iter:  1000 ) | train_acc: 0.44388\n",
            "epoch  3 (iter:  1500 ) | train_acc: 0.53616\n",
            "epoch  4 (iter:  2000 ) | train_acc: 0.59384\n",
            "epoch  5 (iter:  2500 ) | train_acc: 0.64062\n",
            "epoch  6 (iter:  3000 ) | train_acc: 0.67304\n",
            "epoch  7 (iter:  3500 ) | train_acc: 0.69718\n",
            "epoch  8 (iter:  4000 ) | train_acc: 0.71674\n",
            "epoch  9 (iter:  4500 ) | train_acc: 0.73102\n"
          ],
          "name": "stdout"
        }
      ]
    },
    {
      "cell_type": "markdown",
      "metadata": {
        "id": "CoviuMl2TypC"
      },
      "source": [
        "然而出乎意料的是，既便模型的超參數都設置一樣了，學習效率似乎沒有像老師 Numpy 範例中一樣快速的就提升到 9 成以上。因此，接下來的 1.4.3-1.4.7 節，我將分別把 1.4.2 中的參數輪流改回原始 1.4.1 時的參數，來檢驗究竟何種參數與超參數是重大的影響因子，或是在怎樣的配置下才能使學習效率有快速的提升。\n"
      ]
    },
    {
      "cell_type": "markdown",
      "metadata": {
        "id": "8ZWx62O03xLi"
      },
      "source": [
        "#### 1.4.3 Batch size 改回 training_data 的大小"
      ]
    },
    {
      "cell_type": "code",
      "metadata": {
        "id": "rGLRct-bKNcm",
        "colab": {
          "base_uri": "https://localhost:8080/"
        },
        "outputId": "b01b33ed-1bc0-4fd1-f166-d5b9dcef67a1"
      },
      "source": [
        "runModel(batch_size = X_train.shape[0], max_epochs = 10, learning_rate = 1e-2, \\\n",
        "         droupout_rate = 0.5, initialize = \"He\", optim = \"SGD\")"
      ],
      "execution_count": 26,
      "outputs": [
        {
          "output_type": "stream",
          "text": [
            "epoch  0 (iter:  0 ) | train_acc: 0.11728\n",
            "epoch  1 (iter:  1 ) | train_acc: 0.11742\n"
          ],
          "name": "stdout"
        },
        {
          "output_type": "stream",
          "text": [
            "/usr/local/lib/python3.6/dist-packages/torch/nn/modules/container.py:117: UserWarning: Implicit dimension choice for softmax has been deprecated. Change the call to include dim=X as an argument.\n",
            "  input = module(input)\n"
          ],
          "name": "stderr"
        },
        {
          "output_type": "stream",
          "text": [
            "epoch  2 (iter:  2 ) | train_acc: 0.12004\n",
            "epoch  3 (iter:  3 ) | train_acc: 0.119\n",
            "epoch  4 (iter:  4 ) | train_acc: 0.11908\n",
            "epoch  5 (iter:  5 ) | train_acc: 0.1165\n",
            "epoch  6 (iter:  6 ) | train_acc: 0.121\n",
            "epoch  7 (iter:  7 ) | train_acc: 0.1208\n",
            "epoch  8 (iter:  8 ) | train_acc: 0.11968\n",
            "epoch  9 (iter:  9 ) | train_acc: 0.12088\n"
          ],
          "name": "stdout"
        }
      ]
    },
    {
      "cell_type": "markdown",
      "metadata": {
        "id": "WKizwONa3xyo"
      },
      "source": [
        "Batch size 過大，使得每次 epoch 的迭代次數變少，當然學習效率也沒有顯著提升，正確率遲滯不前。"
      ]
    },
    {
      "cell_type": "markdown",
      "metadata": {
        "id": "nORr3P7dTzWI"
      },
      "source": [
        "#### 1.4.4 Learning rate 改回 0.0001"
      ]
    },
    {
      "cell_type": "code",
      "metadata": {
        "colab": {
          "base_uri": "https://localhost:8080/"
        },
        "id": "4q0h-5pxKNzo",
        "outputId": "86aa90ea-0774-4d26-87b7-038279f04226"
      },
      "source": [
        "runModel(batch_size = 100, max_epochs = 10, learning_rate = 1e-4, \\\n",
        "         droupout_rate = 0.5, initialize = \"He\", optim = \"SGD\")"
      ],
      "execution_count": 27,
      "outputs": [
        {
          "output_type": "stream",
          "text": [
            "epoch  0 (iter:  0 ) | train_acc: 0.10892\n"
          ],
          "name": "stdout"
        },
        {
          "output_type": "stream",
          "text": [
            "/usr/local/lib/python3.6/dist-packages/torch/nn/modules/container.py:117: UserWarning: Implicit dimension choice for softmax has been deprecated. Change the call to include dim=X as an argument.\n",
            "  input = module(input)\n"
          ],
          "name": "stderr"
        },
        {
          "output_type": "stream",
          "text": [
            "epoch  1 (iter:  500 ) | train_acc: 0.11086\n",
            "epoch  2 (iter:  1000 ) | train_acc: 0.11006\n",
            "epoch  3 (iter:  1500 ) | train_acc: 0.1107\n",
            "epoch  4 (iter:  2000 ) | train_acc: 0.1137\n",
            "epoch  5 (iter:  2500 ) | train_acc: 0.11628\n",
            "epoch  6 (iter:  3000 ) | train_acc: 0.11614\n",
            "epoch  7 (iter:  3500 ) | train_acc: 0.11862\n",
            "epoch  8 (iter:  4000 ) | train_acc: 0.123\n",
            "epoch  9 (iter:  4500 ) | train_acc: 0.12318\n"
          ],
          "name": "stdout"
        }
      ]
    },
    {
      "cell_type": "markdown",
      "metadata": {
        "id": "dnyMZwewT0Nw"
      },
      "source": [
        "Learning rate 過小，可能使得參數的更新過於緩慢，因此也可發現學習效率非常的差。\n",
        "\n",
        "然而另一方面，如果我用最原始 (1.4.1) 的設定，但只將 learning rate 改成 0.01， "
      ]
    },
    {
      "cell_type": "code",
      "metadata": {
        "colab": {
          "base_uri": "https://localhost:8080/"
        },
        "id": "gyMyaXdjbjP_",
        "outputId": "db420de0-02f1-46f0-d0b3-3409edd68d71"
      },
      "source": [
        "runModel(batch_size = X_train.shape[0], max_epochs = 10, learning_rate = 1e-2, \\\n",
        "         droupout_rate = 0, initialize = \"Xavier\", optim = \"Adam\")"
      ],
      "execution_count": 28,
      "outputs": [
        {
          "output_type": "stream",
          "text": [
            "epoch  0 (iter:  0 ) | train_acc: 0.7032\n",
            "epoch  1 (iter:  1 ) | train_acc: 0.75396\n"
          ],
          "name": "stdout"
        },
        {
          "output_type": "stream",
          "text": [
            "/usr/local/lib/python3.6/dist-packages/torch/nn/modules/container.py:117: UserWarning: Implicit dimension choice for softmax has been deprecated. Change the call to include dim=X as an argument.\n",
            "  input = module(input)\n"
          ],
          "name": "stderr"
        },
        {
          "output_type": "stream",
          "text": [
            "epoch  2 (iter:  2 ) | train_acc: 0.77052\n",
            "epoch  3 (iter:  3 ) | train_acc: 0.78872\n",
            "epoch  4 (iter:  4 ) | train_acc: 0.80432\n",
            "epoch  5 (iter:  5 ) | train_acc: 0.81494\n",
            "epoch  6 (iter:  6 ) | train_acc: 0.82452\n",
            "epoch  7 (iter:  7 ) | train_acc: 0.83426\n",
            "epoch  8 (iter:  8 ) | train_acc: 0.84584\n",
            "epoch  9 (iter:  9 ) | train_acc: 0.85904\n"
          ],
          "name": "stdout"
        }
      ]
    },
    {
      "cell_type": "markdown",
      "metadata": {
        "id": "3M1Bc1nabkCj"
      },
      "source": [
        "就能觀察到學習效率會有顯著的進步，即便我們每次迭代都用整個 training data！因此，在前面 1.4.3 節我們以為學習效率不好以為是因為 batch size 設置太大，但有可能其實是因為搭配到不好的 learning rate 才造成此結果。總結來說，這兩者的組合會是此模型學習上是非常重要的因素之一。  "
      ]
    },
    {
      "cell_type": "markdown",
      "metadata": {
        "id": "7IOAH_xx3yhR"
      },
      "source": [
        "#### 1.4.5 沒有 droupout (or droupout rate = 0)"
      ]
    },
    {
      "cell_type": "code",
      "metadata": {
        "colab": {
          "base_uri": "https://localhost:8080/"
        },
        "id": "xkjjfAN_6BID",
        "outputId": "fddd99bb-6c11-45a6-f66b-dd4d6309d3a9"
      },
      "source": [
        "runModel(batch_size = 100, max_epochs = 10, learning_rate = 1e-2, \\\n",
        "     droupout_rate = 0, initialize = \"He\", optim = \"SGD\")"
      ],
      "execution_count": 29,
      "outputs": [
        {
          "output_type": "stream",
          "text": [
            "epoch  0 (iter:  0 ) | train_acc: 0.11118\n"
          ],
          "name": "stdout"
        },
        {
          "output_type": "stream",
          "text": [
            "/usr/local/lib/python3.6/dist-packages/torch/nn/modules/container.py:117: UserWarning: Implicit dimension choice for softmax has been deprecated. Change the call to include dim=X as an argument.\n",
            "  input = module(input)\n"
          ],
          "name": "stderr"
        },
        {
          "output_type": "stream",
          "text": [
            "epoch  1 (iter:  500 ) | train_acc: 0.66962\n",
            "epoch  2 (iter:  1000 ) | train_acc: 0.76196\n",
            "epoch  3 (iter:  1500 ) | train_acc: 0.79272\n",
            "epoch  4 (iter:  2000 ) | train_acc: 0.81762\n",
            "epoch  5 (iter:  2500 ) | train_acc: 0.88556\n",
            "epoch  6 (iter:  3000 ) | train_acc: 0.90386\n",
            "epoch  7 (iter:  3500 ) | train_acc: 0.9118\n",
            "epoch  8 (iter:  4000 ) | train_acc: 0.91764\n",
            "epoch  9 (iter:  4500 ) | train_acc: 0.92226\n"
          ],
          "name": "stdout"
        }
      ]
    },
    {
      "cell_type": "markdown",
      "metadata": {
        "id": "KCwKhvm-6IXj"
      },
      "source": [
        "發現其實沒有加入 droupout 這層反而學習效率比起 1.4.2 時要還得快！雖然之後預測上可能會有 overfitting 的顧慮，但在這邊我們要讓準確率快速的極大化，因此有充足多的參數 (也就是不要隨機失去參數) 可能是重要的因素。\n"
      ]
    },
    {
      "cell_type": "markdown",
      "metadata": {
        "id": "x4zyZ0ha6ITG"
      },
      "source": [
        "#### 1.4.6 參數的初始設定改回 Xavier method"
      ]
    },
    {
      "cell_type": "code",
      "metadata": {
        "colab": {
          "base_uri": "https://localhost:8080/"
        },
        "id": "mQCQfYoaKNwO",
        "outputId": "37b011a3-bb7f-42cc-bc3d-38065b4e472a"
      },
      "source": [
        "runModel(batch_size = 100, max_epochs = 10, learning_rate = 1e-2, \\\n",
        "     droupout_rate = 0.5, initialize = \"Xavier\", optim = \"SGD\")"
      ],
      "execution_count": 30,
      "outputs": [
        {
          "output_type": "stream",
          "text": [
            "epoch  0 (iter:  0 ) | train_acc: 0.11548\n"
          ],
          "name": "stdout"
        },
        {
          "output_type": "stream",
          "text": [
            "/usr/local/lib/python3.6/dist-packages/torch/nn/modules/container.py:117: UserWarning: Implicit dimension choice for softmax has been deprecated. Change the call to include dim=X as an argument.\n",
            "  input = module(input)\n"
          ],
          "name": "stderr"
        },
        {
          "output_type": "stream",
          "text": [
            "epoch  1 (iter:  500 ) | train_acc: 0.40736\n",
            "epoch  2 (iter:  1000 ) | train_acc: 0.5644\n",
            "epoch  3 (iter:  1500 ) | train_acc: 0.65242\n",
            "epoch  4 (iter:  2000 ) | train_acc: 0.68968\n",
            "epoch  5 (iter:  2500 ) | train_acc: 0.71136\n",
            "epoch  6 (iter:  3000 ) | train_acc: 0.72478\n",
            "epoch  7 (iter:  3500 ) | train_acc: 0.74788\n",
            "epoch  8 (iter:  4000 ) | train_acc: 0.77688\n",
            "epoch  9 (iter:  4500 ) | train_acc: 0.78994\n"
          ],
          "name": "stdout"
        }
      ]
    },
    {
      "cell_type": "markdown",
      "metadata": {
        "id": "rS02tD5a4ibh"
      },
      "source": [
        "似乎用 Xavier mehhod (1.4.6) 或使用 He method (1.4.2) 的學習效率差不多，雖然老師給的參考資料中會建議如果使 ReLU 作為活化函數使用 He method 比起用 Xavier method 來說，較能減低「梯度消失」的問題，但我猜測在 1.4.6 與 1.4.2 之間的差異不大之可能的原因在於，我們這邊只有 3 層的神經網路，還不至於使活化性的偏差過大，所以在這邊的準確率也差不多。\n"
      ]
    },
    {
      "cell_type": "markdown",
      "metadata": {
        "id": "Qh-3ksMx4iXd"
      },
      "source": [
        "#### 1.4.7 Optimizer 改回 Adam method"
      ]
    },
    {
      "cell_type": "code",
      "metadata": {
        "colab": {
          "base_uri": "https://localhost:8080/"
        },
        "id": "g8q3nsUe4kuw",
        "outputId": "8f1c302a-decc-496c-a318-fd3c5e4d9f63"
      },
      "source": [
        "runModel(batch_size = 100, max_epochs = 10, learning_rate = 1e-2, \\\n",
        "     droupout_rate = 0.5, initialize = \"He\", optim = \"Adam\")"
      ],
      "execution_count": 31,
      "outputs": [
        {
          "output_type": "stream",
          "text": [
            "epoch  0 (iter:  0 ) | train_acc: 0.16642\n"
          ],
          "name": "stdout"
        },
        {
          "output_type": "stream",
          "text": [
            "/usr/local/lib/python3.6/dist-packages/torch/nn/modules/container.py:117: UserWarning: Implicit dimension choice for softmax has been deprecated. Change the call to include dim=X as an argument.\n",
            "  input = module(input)\n"
          ],
          "name": "stderr"
        },
        {
          "output_type": "stream",
          "text": [
            "epoch  1 (iter:  500 ) | train_acc: 0.88798\n",
            "epoch  2 (iter:  1000 ) | train_acc: 0.8983\n",
            "epoch  3 (iter:  1500 ) | train_acc: 0.90814\n",
            "epoch  4 (iter:  2000 ) | train_acc: 0.9082\n",
            "epoch  5 (iter:  2500 ) | train_acc: 0.91216\n",
            "epoch  6 (iter:  3000 ) | train_acc: 0.91622\n",
            "epoch  7 (iter:  3500 ) | train_acc: 0.91444\n",
            "epoch  8 (iter:  4000 ) | train_acc: 0.91842\n",
            "epoch  9 (iter:  4500 ) | train_acc: 0.91858\n"
          ],
          "name": "stdout"
        }
      ]
    },
    {
      "cell_type": "markdown",
      "metadata": {
        "id": "t5Jn1bPr4jxi"
      },
      "source": [
        "這邊就很顯然的可觀察到，Adam method 還是比起 SGD 來說，馬上就能達到超高的正確率。\n"
      ]
    },
    {
      "cell_type": "markdown",
      "metadata": {
        "id": "9XEGve3j4iUU"
      },
      "source": [
        "#### 1.4.8 最佳的設置\n",
        "\n",
        "綜合上述的觀察，能得到下方結論\n",
        "\n",
        "- Batch size 要搭配好的 learning rate，這兩者的組合會大大影響學習效率 \n",
        "- 有 dropout 不會增加學習效率，但有 overfitting 的可能\n",
        "- 3-layer-nn 用 ReLU 作為活化函數，參數初始值使用 He 或是 Xavier 沒有太大差異\n",
        "- Optimeizer 選用 Adam 比 SGD 要更快達到最佳值\n",
        "\n",
        "經過一些嘗試後，下方參數與超參數的配置是我目前得到最快的學習效率，只需 10 次的 epcoh 就能達到幾乎 99% 的正確率了！ "
      ]
    },
    {
      "cell_type": "code",
      "metadata": {
        "colab": {
          "base_uri": "https://localhost:8080/"
        },
        "id": "n6xCRIFg-tM4",
        "outputId": "3cbff782-e057-4137-b0c1-1e675be6711b"
      },
      "source": [
        "runModel(batch_size = 1000, max_epochs = 10, learning_rate = 1e-2, \\\n",
        "     droupout_rate = 0, initialize = \"He\", optim = \"Adam\")"
      ],
      "execution_count": 35,
      "outputs": [
        {
          "output_type": "stream",
          "text": [
            "/usr/local/lib/python3.6/dist-packages/torch/nn/modules/container.py:117: UserWarning: Implicit dimension choice for softmax has been deprecated. Change the call to include dim=X as an argument.\n",
            "  input = module(input)\n"
          ],
          "name": "stderr"
        },
        {
          "output_type": "stream",
          "text": [
            "epoch  0 (iter:  0 ) | train_acc: 0.58542\n",
            "epoch  1 (iter:  50 ) | train_acc: 0.95414\n",
            "epoch  2 (iter:  100 ) | train_acc: 0.9687\n",
            "epoch  3 (iter:  150 ) | train_acc: 0.97532\n",
            "epoch  4 (iter:  200 ) | train_acc: 0.9799\n",
            "epoch  5 (iter:  250 ) | train_acc: 0.98174\n",
            "epoch  6 (iter:  300 ) | train_acc: 0.9855\n",
            "epoch  7 (iter:  350 ) | train_acc: 0.98628\n",
            "epoch  8 (iter:  400 ) | train_acc: 0.98814\n",
            "epoch  9 (iter:  450 ) | train_acc: 0.98964\n"
          ],
          "name": "stdout"
        }
      ]
    }
  ]
}