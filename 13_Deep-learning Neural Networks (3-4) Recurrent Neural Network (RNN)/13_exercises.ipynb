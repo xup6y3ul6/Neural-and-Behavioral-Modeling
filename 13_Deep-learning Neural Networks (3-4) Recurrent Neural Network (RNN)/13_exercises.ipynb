{
  "nbformat": 4,
  "nbformat_minor": 0,
  "metadata": {
    "kernelspec": {
      "display_name": "Python 3",
      "language": "python",
      "name": "python3"
    },
    "language_info": {
      "codemirror_mode": {
        "name": "ipython",
        "version": 3
      },
      "file_extension": ".py",
      "mimetype": "text/x-python",
      "name": "python",
      "nbconvert_exporter": "python",
      "pygments_lexer": "ipython3",
      "version": "3.6.8"
    },
    "colab": {
      "name": "13_exercises.ipynb",
      "provenance": [],
      "collapsed_sections": []
    },
    "accelerator": "GPU",
    "widgets": {
      "application/vnd.jupyter.widget-state+json": {
        "8c7183ac83714700b296ee5de5c26240": {
          "model_module": "@jupyter-widgets/controls",
          "model_name": "HBoxModel",
          "state": {
            "_view_name": "HBoxView",
            "_dom_classes": [],
            "_model_name": "HBoxModel",
            "_view_module": "@jupyter-widgets/controls",
            "_model_module_version": "1.5.0",
            "_view_count": null,
            "_view_module_version": "1.5.0",
            "box_style": "",
            "layout": "IPY_MODEL_b817fb6a4378427288c674a191bd2ef2",
            "_model_module": "@jupyter-widgets/controls",
            "children": [
              "IPY_MODEL_2159f3d6a5204d21b0cbba840e8b9bd5",
              "IPY_MODEL_13a6784fc47e4dfda2129876b5ed3ca2"
            ]
          }
        },
        "b817fb6a4378427288c674a191bd2ef2": {
          "model_module": "@jupyter-widgets/base",
          "model_name": "LayoutModel",
          "state": {
            "_view_name": "LayoutView",
            "grid_template_rows": null,
            "right": null,
            "justify_content": null,
            "_view_module": "@jupyter-widgets/base",
            "overflow": null,
            "_model_module_version": "1.2.0",
            "_view_count": null,
            "flex_flow": null,
            "width": null,
            "min_width": null,
            "border": null,
            "align_items": null,
            "bottom": null,
            "_model_module": "@jupyter-widgets/base",
            "top": null,
            "grid_column": null,
            "overflow_y": null,
            "overflow_x": null,
            "grid_auto_flow": null,
            "grid_area": null,
            "grid_template_columns": null,
            "flex": null,
            "_model_name": "LayoutModel",
            "justify_items": null,
            "grid_row": null,
            "max_height": null,
            "align_content": null,
            "visibility": null,
            "align_self": null,
            "height": null,
            "min_height": null,
            "padding": null,
            "grid_auto_rows": null,
            "grid_gap": null,
            "max_width": null,
            "order": null,
            "_view_module_version": "1.2.0",
            "grid_template_areas": null,
            "object_position": null,
            "object_fit": null,
            "grid_auto_columns": null,
            "margin": null,
            "display": null,
            "left": null
          }
        },
        "2159f3d6a5204d21b0cbba840e8b9bd5": {
          "model_module": "@jupyter-widgets/controls",
          "model_name": "FloatProgressModel",
          "state": {
            "_view_name": "ProgressView",
            "style": "IPY_MODEL_41229c359dd94e45a9ca6fb4d1856b6c",
            "_dom_classes": [],
            "description": "",
            "_model_name": "FloatProgressModel",
            "bar_style": "info",
            "max": 1,
            "_view_module": "@jupyter-widgets/controls",
            "_model_module_version": "1.5.0",
            "value": 1,
            "_view_count": null,
            "_view_module_version": "1.5.0",
            "orientation": "horizontal",
            "min": 0,
            "description_tooltip": null,
            "_model_module": "@jupyter-widgets/controls",
            "layout": "IPY_MODEL_511dd6c9b73f4194b019bb132e721371"
          }
        },
        "13a6784fc47e4dfda2129876b5ed3ca2": {
          "model_module": "@jupyter-widgets/controls",
          "model_name": "HTMLModel",
          "state": {
            "_view_name": "HTMLView",
            "style": "IPY_MODEL_8dd8e4f5f3bb408db1e7d6603c0aa32f",
            "_dom_classes": [],
            "description": "",
            "_model_name": "HTMLModel",
            "placeholder": "​",
            "_view_module": "@jupyter-widgets/controls",
            "_model_module_version": "1.5.0",
            "value": " 9920512/? [00:20&lt;00:00, 1051930.16it/s]",
            "_view_count": null,
            "_view_module_version": "1.5.0",
            "description_tooltip": null,
            "_model_module": "@jupyter-widgets/controls",
            "layout": "IPY_MODEL_9a9edefccff24e9aa3c47a4545de84f2"
          }
        },
        "41229c359dd94e45a9ca6fb4d1856b6c": {
          "model_module": "@jupyter-widgets/controls",
          "model_name": "ProgressStyleModel",
          "state": {
            "_view_name": "StyleView",
            "_model_name": "ProgressStyleModel",
            "description_width": "initial",
            "_view_module": "@jupyter-widgets/base",
            "_model_module_version": "1.5.0",
            "_view_count": null,
            "_view_module_version": "1.2.0",
            "bar_color": null,
            "_model_module": "@jupyter-widgets/controls"
          }
        },
        "511dd6c9b73f4194b019bb132e721371": {
          "model_module": "@jupyter-widgets/base",
          "model_name": "LayoutModel",
          "state": {
            "_view_name": "LayoutView",
            "grid_template_rows": null,
            "right": null,
            "justify_content": null,
            "_view_module": "@jupyter-widgets/base",
            "overflow": null,
            "_model_module_version": "1.2.0",
            "_view_count": null,
            "flex_flow": null,
            "width": null,
            "min_width": null,
            "border": null,
            "align_items": null,
            "bottom": null,
            "_model_module": "@jupyter-widgets/base",
            "top": null,
            "grid_column": null,
            "overflow_y": null,
            "overflow_x": null,
            "grid_auto_flow": null,
            "grid_area": null,
            "grid_template_columns": null,
            "flex": null,
            "_model_name": "LayoutModel",
            "justify_items": null,
            "grid_row": null,
            "max_height": null,
            "align_content": null,
            "visibility": null,
            "align_self": null,
            "height": null,
            "min_height": null,
            "padding": null,
            "grid_auto_rows": null,
            "grid_gap": null,
            "max_width": null,
            "order": null,
            "_view_module_version": "1.2.0",
            "grid_template_areas": null,
            "object_position": null,
            "object_fit": null,
            "grid_auto_columns": null,
            "margin": null,
            "display": null,
            "left": null
          }
        },
        "8dd8e4f5f3bb408db1e7d6603c0aa32f": {
          "model_module": "@jupyter-widgets/controls",
          "model_name": "DescriptionStyleModel",
          "state": {
            "_view_name": "StyleView",
            "_model_name": "DescriptionStyleModel",
            "description_width": "",
            "_view_module": "@jupyter-widgets/base",
            "_model_module_version": "1.5.0",
            "_view_count": null,
            "_view_module_version": "1.2.0",
            "_model_module": "@jupyter-widgets/controls"
          }
        },
        "9a9edefccff24e9aa3c47a4545de84f2": {
          "model_module": "@jupyter-widgets/base",
          "model_name": "LayoutModel",
          "state": {
            "_view_name": "LayoutView",
            "grid_template_rows": null,
            "right": null,
            "justify_content": null,
            "_view_module": "@jupyter-widgets/base",
            "overflow": null,
            "_model_module_version": "1.2.0",
            "_view_count": null,
            "flex_flow": null,
            "width": null,
            "min_width": null,
            "border": null,
            "align_items": null,
            "bottom": null,
            "_model_module": "@jupyter-widgets/base",
            "top": null,
            "grid_column": null,
            "overflow_y": null,
            "overflow_x": null,
            "grid_auto_flow": null,
            "grid_area": null,
            "grid_template_columns": null,
            "flex": null,
            "_model_name": "LayoutModel",
            "justify_items": null,
            "grid_row": null,
            "max_height": null,
            "align_content": null,
            "visibility": null,
            "align_self": null,
            "height": null,
            "min_height": null,
            "padding": null,
            "grid_auto_rows": null,
            "grid_gap": null,
            "max_width": null,
            "order": null,
            "_view_module_version": "1.2.0",
            "grid_template_areas": null,
            "object_position": null,
            "object_fit": null,
            "grid_auto_columns": null,
            "margin": null,
            "display": null,
            "left": null
          }
        },
        "04b4c8840d9e48268b7f5ca013888cac": {
          "model_module": "@jupyter-widgets/controls",
          "model_name": "HBoxModel",
          "state": {
            "_view_name": "HBoxView",
            "_dom_classes": [],
            "_model_name": "HBoxModel",
            "_view_module": "@jupyter-widgets/controls",
            "_model_module_version": "1.5.0",
            "_view_count": null,
            "_view_module_version": "1.5.0",
            "box_style": "",
            "layout": "IPY_MODEL_0441b99d446e4c30a6f1e5f587fdfe8a",
            "_model_module": "@jupyter-widgets/controls",
            "children": [
              "IPY_MODEL_3277077d06b14783b4de67c3f0b660d8",
              "IPY_MODEL_3b6de0a301824fa1bc1b7fde36dd1a83"
            ]
          }
        },
        "0441b99d446e4c30a6f1e5f587fdfe8a": {
          "model_module": "@jupyter-widgets/base",
          "model_name": "LayoutModel",
          "state": {
            "_view_name": "LayoutView",
            "grid_template_rows": null,
            "right": null,
            "justify_content": null,
            "_view_module": "@jupyter-widgets/base",
            "overflow": null,
            "_model_module_version": "1.2.0",
            "_view_count": null,
            "flex_flow": null,
            "width": null,
            "min_width": null,
            "border": null,
            "align_items": null,
            "bottom": null,
            "_model_module": "@jupyter-widgets/base",
            "top": null,
            "grid_column": null,
            "overflow_y": null,
            "overflow_x": null,
            "grid_auto_flow": null,
            "grid_area": null,
            "grid_template_columns": null,
            "flex": null,
            "_model_name": "LayoutModel",
            "justify_items": null,
            "grid_row": null,
            "max_height": null,
            "align_content": null,
            "visibility": null,
            "align_self": null,
            "height": null,
            "min_height": null,
            "padding": null,
            "grid_auto_rows": null,
            "grid_gap": null,
            "max_width": null,
            "order": null,
            "_view_module_version": "1.2.0",
            "grid_template_areas": null,
            "object_position": null,
            "object_fit": null,
            "grid_auto_columns": null,
            "margin": null,
            "display": null,
            "left": null
          }
        },
        "3277077d06b14783b4de67c3f0b660d8": {
          "model_module": "@jupyter-widgets/controls",
          "model_name": "FloatProgressModel",
          "state": {
            "_view_name": "ProgressView",
            "style": "IPY_MODEL_483dca3070de46d3b2154d7212dec37f",
            "_dom_classes": [],
            "description": "",
            "_model_name": "FloatProgressModel",
            "bar_style": "success",
            "max": 1,
            "_view_module": "@jupyter-widgets/controls",
            "_model_module_version": "1.5.0",
            "value": 1,
            "_view_count": null,
            "_view_module_version": "1.5.0",
            "orientation": "horizontal",
            "min": 0,
            "description_tooltip": null,
            "_model_module": "@jupyter-widgets/controls",
            "layout": "IPY_MODEL_adc5a381dc164d29ba3f8ee7f4f81bbb"
          }
        },
        "3b6de0a301824fa1bc1b7fde36dd1a83": {
          "model_module": "@jupyter-widgets/controls",
          "model_name": "HTMLModel",
          "state": {
            "_view_name": "HTMLView",
            "style": "IPY_MODEL_c33f973462ae45a083b913fa2a851894",
            "_dom_classes": [],
            "description": "",
            "_model_name": "HTMLModel",
            "placeholder": "​",
            "_view_module": "@jupyter-widgets/controls",
            "_model_module_version": "1.5.0",
            "value": " 32768/? [00:00&lt;00:00, 109725.30it/s]",
            "_view_count": null,
            "_view_module_version": "1.5.0",
            "description_tooltip": null,
            "_model_module": "@jupyter-widgets/controls",
            "layout": "IPY_MODEL_cb204b8e945f488dabae7e40923749e2"
          }
        },
        "483dca3070de46d3b2154d7212dec37f": {
          "model_module": "@jupyter-widgets/controls",
          "model_name": "ProgressStyleModel",
          "state": {
            "_view_name": "StyleView",
            "_model_name": "ProgressStyleModel",
            "description_width": "initial",
            "_view_module": "@jupyter-widgets/base",
            "_model_module_version": "1.5.0",
            "_view_count": null,
            "_view_module_version": "1.2.0",
            "bar_color": null,
            "_model_module": "@jupyter-widgets/controls"
          }
        },
        "adc5a381dc164d29ba3f8ee7f4f81bbb": {
          "model_module": "@jupyter-widgets/base",
          "model_name": "LayoutModel",
          "state": {
            "_view_name": "LayoutView",
            "grid_template_rows": null,
            "right": null,
            "justify_content": null,
            "_view_module": "@jupyter-widgets/base",
            "overflow": null,
            "_model_module_version": "1.2.0",
            "_view_count": null,
            "flex_flow": null,
            "width": null,
            "min_width": null,
            "border": null,
            "align_items": null,
            "bottom": null,
            "_model_module": "@jupyter-widgets/base",
            "top": null,
            "grid_column": null,
            "overflow_y": null,
            "overflow_x": null,
            "grid_auto_flow": null,
            "grid_area": null,
            "grid_template_columns": null,
            "flex": null,
            "_model_name": "LayoutModel",
            "justify_items": null,
            "grid_row": null,
            "max_height": null,
            "align_content": null,
            "visibility": null,
            "align_self": null,
            "height": null,
            "min_height": null,
            "padding": null,
            "grid_auto_rows": null,
            "grid_gap": null,
            "max_width": null,
            "order": null,
            "_view_module_version": "1.2.0",
            "grid_template_areas": null,
            "object_position": null,
            "object_fit": null,
            "grid_auto_columns": null,
            "margin": null,
            "display": null,
            "left": null
          }
        },
        "c33f973462ae45a083b913fa2a851894": {
          "model_module": "@jupyter-widgets/controls",
          "model_name": "DescriptionStyleModel",
          "state": {
            "_view_name": "StyleView",
            "_model_name": "DescriptionStyleModel",
            "description_width": "",
            "_view_module": "@jupyter-widgets/base",
            "_model_module_version": "1.5.0",
            "_view_count": null,
            "_view_module_version": "1.2.0",
            "_model_module": "@jupyter-widgets/controls"
          }
        },
        "cb204b8e945f488dabae7e40923749e2": {
          "model_module": "@jupyter-widgets/base",
          "model_name": "LayoutModel",
          "state": {
            "_view_name": "LayoutView",
            "grid_template_rows": null,
            "right": null,
            "justify_content": null,
            "_view_module": "@jupyter-widgets/base",
            "overflow": null,
            "_model_module_version": "1.2.0",
            "_view_count": null,
            "flex_flow": null,
            "width": null,
            "min_width": null,
            "border": null,
            "align_items": null,
            "bottom": null,
            "_model_module": "@jupyter-widgets/base",
            "top": null,
            "grid_column": null,
            "overflow_y": null,
            "overflow_x": null,
            "grid_auto_flow": null,
            "grid_area": null,
            "grid_template_columns": null,
            "flex": null,
            "_model_name": "LayoutModel",
            "justify_items": null,
            "grid_row": null,
            "max_height": null,
            "align_content": null,
            "visibility": null,
            "align_self": null,
            "height": null,
            "min_height": null,
            "padding": null,
            "grid_auto_rows": null,
            "grid_gap": null,
            "max_width": null,
            "order": null,
            "_view_module_version": "1.2.0",
            "grid_template_areas": null,
            "object_position": null,
            "object_fit": null,
            "grid_auto_columns": null,
            "margin": null,
            "display": null,
            "left": null
          }
        },
        "5d9dae0f234841e98bf6414e374e150f": {
          "model_module": "@jupyter-widgets/controls",
          "model_name": "HBoxModel",
          "state": {
            "_view_name": "HBoxView",
            "_dom_classes": [],
            "_model_name": "HBoxModel",
            "_view_module": "@jupyter-widgets/controls",
            "_model_module_version": "1.5.0",
            "_view_count": null,
            "_view_module_version": "1.5.0",
            "box_style": "",
            "layout": "IPY_MODEL_617fef162c864243b096f24bb95d26b4",
            "_model_module": "@jupyter-widgets/controls",
            "children": [
              "IPY_MODEL_269af329cb2a48628e85c3e93f1c8f2c",
              "IPY_MODEL_8a68205802de491083eff78828047a71"
            ]
          }
        },
        "617fef162c864243b096f24bb95d26b4": {
          "model_module": "@jupyter-widgets/base",
          "model_name": "LayoutModel",
          "state": {
            "_view_name": "LayoutView",
            "grid_template_rows": null,
            "right": null,
            "justify_content": null,
            "_view_module": "@jupyter-widgets/base",
            "overflow": null,
            "_model_module_version": "1.2.0",
            "_view_count": null,
            "flex_flow": null,
            "width": null,
            "min_width": null,
            "border": null,
            "align_items": null,
            "bottom": null,
            "_model_module": "@jupyter-widgets/base",
            "top": null,
            "grid_column": null,
            "overflow_y": null,
            "overflow_x": null,
            "grid_auto_flow": null,
            "grid_area": null,
            "grid_template_columns": null,
            "flex": null,
            "_model_name": "LayoutModel",
            "justify_items": null,
            "grid_row": null,
            "max_height": null,
            "align_content": null,
            "visibility": null,
            "align_self": null,
            "height": null,
            "min_height": null,
            "padding": null,
            "grid_auto_rows": null,
            "grid_gap": null,
            "max_width": null,
            "order": null,
            "_view_module_version": "1.2.0",
            "grid_template_areas": null,
            "object_position": null,
            "object_fit": null,
            "grid_auto_columns": null,
            "margin": null,
            "display": null,
            "left": null
          }
        },
        "269af329cb2a48628e85c3e93f1c8f2c": {
          "model_module": "@jupyter-widgets/controls",
          "model_name": "FloatProgressModel",
          "state": {
            "_view_name": "ProgressView",
            "style": "IPY_MODEL_61bd7c74d6fa41d4af8bd7966e4c9c2d",
            "_dom_classes": [],
            "description": "",
            "_model_name": "FloatProgressModel",
            "bar_style": "info",
            "max": 1,
            "_view_module": "@jupyter-widgets/controls",
            "_model_module_version": "1.5.0",
            "value": 1,
            "_view_count": null,
            "_view_module_version": "1.5.0",
            "orientation": "horizontal",
            "min": 0,
            "description_tooltip": null,
            "_model_module": "@jupyter-widgets/controls",
            "layout": "IPY_MODEL_1d70c3a520a24afdbc534d6ec5fef445"
          }
        },
        "8a68205802de491083eff78828047a71": {
          "model_module": "@jupyter-widgets/controls",
          "model_name": "HTMLModel",
          "state": {
            "_view_name": "HTMLView",
            "style": "IPY_MODEL_c5ac4cdbac0f421ba1e6b1d0a1074fda",
            "_dom_classes": [],
            "description": "",
            "_model_name": "HTMLModel",
            "placeholder": "​",
            "_view_module": "@jupyter-widgets/controls",
            "_model_module_version": "1.5.0",
            "value": " 1654784/? [00:18&lt;00:00, 529251.90it/s]",
            "_view_count": null,
            "_view_module_version": "1.5.0",
            "description_tooltip": null,
            "_model_module": "@jupyter-widgets/controls",
            "layout": "IPY_MODEL_a20700ac50cc42e8b8525a9eaebe0ca2"
          }
        },
        "61bd7c74d6fa41d4af8bd7966e4c9c2d": {
          "model_module": "@jupyter-widgets/controls",
          "model_name": "ProgressStyleModel",
          "state": {
            "_view_name": "StyleView",
            "_model_name": "ProgressStyleModel",
            "description_width": "initial",
            "_view_module": "@jupyter-widgets/base",
            "_model_module_version": "1.5.0",
            "_view_count": null,
            "_view_module_version": "1.2.0",
            "bar_color": null,
            "_model_module": "@jupyter-widgets/controls"
          }
        },
        "1d70c3a520a24afdbc534d6ec5fef445": {
          "model_module": "@jupyter-widgets/base",
          "model_name": "LayoutModel",
          "state": {
            "_view_name": "LayoutView",
            "grid_template_rows": null,
            "right": null,
            "justify_content": null,
            "_view_module": "@jupyter-widgets/base",
            "overflow": null,
            "_model_module_version": "1.2.0",
            "_view_count": null,
            "flex_flow": null,
            "width": null,
            "min_width": null,
            "border": null,
            "align_items": null,
            "bottom": null,
            "_model_module": "@jupyter-widgets/base",
            "top": null,
            "grid_column": null,
            "overflow_y": null,
            "overflow_x": null,
            "grid_auto_flow": null,
            "grid_area": null,
            "grid_template_columns": null,
            "flex": null,
            "_model_name": "LayoutModel",
            "justify_items": null,
            "grid_row": null,
            "max_height": null,
            "align_content": null,
            "visibility": null,
            "align_self": null,
            "height": null,
            "min_height": null,
            "padding": null,
            "grid_auto_rows": null,
            "grid_gap": null,
            "max_width": null,
            "order": null,
            "_view_module_version": "1.2.0",
            "grid_template_areas": null,
            "object_position": null,
            "object_fit": null,
            "grid_auto_columns": null,
            "margin": null,
            "display": null,
            "left": null
          }
        },
        "c5ac4cdbac0f421ba1e6b1d0a1074fda": {
          "model_module": "@jupyter-widgets/controls",
          "model_name": "DescriptionStyleModel",
          "state": {
            "_view_name": "StyleView",
            "_model_name": "DescriptionStyleModel",
            "description_width": "",
            "_view_module": "@jupyter-widgets/base",
            "_model_module_version": "1.5.0",
            "_view_count": null,
            "_view_module_version": "1.2.0",
            "_model_module": "@jupyter-widgets/controls"
          }
        },
        "a20700ac50cc42e8b8525a9eaebe0ca2": {
          "model_module": "@jupyter-widgets/base",
          "model_name": "LayoutModel",
          "state": {
            "_view_name": "LayoutView",
            "grid_template_rows": null,
            "right": null,
            "justify_content": null,
            "_view_module": "@jupyter-widgets/base",
            "overflow": null,
            "_model_module_version": "1.2.0",
            "_view_count": null,
            "flex_flow": null,
            "width": null,
            "min_width": null,
            "border": null,
            "align_items": null,
            "bottom": null,
            "_model_module": "@jupyter-widgets/base",
            "top": null,
            "grid_column": null,
            "overflow_y": null,
            "overflow_x": null,
            "grid_auto_flow": null,
            "grid_area": null,
            "grid_template_columns": null,
            "flex": null,
            "_model_name": "LayoutModel",
            "justify_items": null,
            "grid_row": null,
            "max_height": null,
            "align_content": null,
            "visibility": null,
            "align_self": null,
            "height": null,
            "min_height": null,
            "padding": null,
            "grid_auto_rows": null,
            "grid_gap": null,
            "max_width": null,
            "order": null,
            "_view_module_version": "1.2.0",
            "grid_template_areas": null,
            "object_position": null,
            "object_fit": null,
            "grid_auto_columns": null,
            "margin": null,
            "display": null,
            "left": null
          }
        },
        "47b98e7c03864ae5b4b192c7a0cf0f3f": {
          "model_module": "@jupyter-widgets/controls",
          "model_name": "HBoxModel",
          "state": {
            "_view_name": "HBoxView",
            "_dom_classes": [],
            "_model_name": "HBoxModel",
            "_view_module": "@jupyter-widgets/controls",
            "_model_module_version": "1.5.0",
            "_view_count": null,
            "_view_module_version": "1.5.0",
            "box_style": "",
            "layout": "IPY_MODEL_a99f0cd004fb4fd087599fff8e8a2541",
            "_model_module": "@jupyter-widgets/controls",
            "children": [
              "IPY_MODEL_109f646dd4aa424b851e47c6bd310321",
              "IPY_MODEL_1565498fbffe4c2d80c33d987263794b"
            ]
          }
        },
        "a99f0cd004fb4fd087599fff8e8a2541": {
          "model_module": "@jupyter-widgets/base",
          "model_name": "LayoutModel",
          "state": {
            "_view_name": "LayoutView",
            "grid_template_rows": null,
            "right": null,
            "justify_content": null,
            "_view_module": "@jupyter-widgets/base",
            "overflow": null,
            "_model_module_version": "1.2.0",
            "_view_count": null,
            "flex_flow": null,
            "width": null,
            "min_width": null,
            "border": null,
            "align_items": null,
            "bottom": null,
            "_model_module": "@jupyter-widgets/base",
            "top": null,
            "grid_column": null,
            "overflow_y": null,
            "overflow_x": null,
            "grid_auto_flow": null,
            "grid_area": null,
            "grid_template_columns": null,
            "flex": null,
            "_model_name": "LayoutModel",
            "justify_items": null,
            "grid_row": null,
            "max_height": null,
            "align_content": null,
            "visibility": null,
            "align_self": null,
            "height": null,
            "min_height": null,
            "padding": null,
            "grid_auto_rows": null,
            "grid_gap": null,
            "max_width": null,
            "order": null,
            "_view_module_version": "1.2.0",
            "grid_template_areas": null,
            "object_position": null,
            "object_fit": null,
            "grid_auto_columns": null,
            "margin": null,
            "display": null,
            "left": null
          }
        },
        "109f646dd4aa424b851e47c6bd310321": {
          "model_module": "@jupyter-widgets/controls",
          "model_name": "FloatProgressModel",
          "state": {
            "_view_name": "ProgressView",
            "style": "IPY_MODEL_c5c9c2ad4d12424497bd0786d32f847f",
            "_dom_classes": [],
            "description": "  0%",
            "_model_name": "FloatProgressModel",
            "bar_style": "info",
            "max": 1,
            "_view_module": "@jupyter-widgets/controls",
            "_model_module_version": "1.5.0",
            "value": 0,
            "_view_count": null,
            "_view_module_version": "1.5.0",
            "orientation": "horizontal",
            "min": 0,
            "description_tooltip": null,
            "_model_module": "@jupyter-widgets/controls",
            "layout": "IPY_MODEL_2ae6bf1c51e44e7cba677c389cbae61f"
          }
        },
        "1565498fbffe4c2d80c33d987263794b": {
          "model_module": "@jupyter-widgets/controls",
          "model_name": "HTMLModel",
          "state": {
            "_view_name": "HTMLView",
            "style": "IPY_MODEL_a41effd987714aff900a3031eb768722",
            "_dom_classes": [],
            "description": "",
            "_model_name": "HTMLModel",
            "placeholder": "​",
            "_view_module": "@jupyter-widgets/controls",
            "_model_module_version": "1.5.0",
            "value": " 0/4542 [00:00&lt;?, ?it/s]",
            "_view_count": null,
            "_view_module_version": "1.5.0",
            "description_tooltip": null,
            "_model_module": "@jupyter-widgets/controls",
            "layout": "IPY_MODEL_e37567309b9d4bf5962e3cdb40dccd42"
          }
        },
        "c5c9c2ad4d12424497bd0786d32f847f": {
          "model_module": "@jupyter-widgets/controls",
          "model_name": "ProgressStyleModel",
          "state": {
            "_view_name": "StyleView",
            "_model_name": "ProgressStyleModel",
            "description_width": "initial",
            "_view_module": "@jupyter-widgets/base",
            "_model_module_version": "1.5.0",
            "_view_count": null,
            "_view_module_version": "1.2.0",
            "bar_color": null,
            "_model_module": "@jupyter-widgets/controls"
          }
        },
        "2ae6bf1c51e44e7cba677c389cbae61f": {
          "model_module": "@jupyter-widgets/base",
          "model_name": "LayoutModel",
          "state": {
            "_view_name": "LayoutView",
            "grid_template_rows": null,
            "right": null,
            "justify_content": null,
            "_view_module": "@jupyter-widgets/base",
            "overflow": null,
            "_model_module_version": "1.2.0",
            "_view_count": null,
            "flex_flow": null,
            "width": null,
            "min_width": null,
            "border": null,
            "align_items": null,
            "bottom": null,
            "_model_module": "@jupyter-widgets/base",
            "top": null,
            "grid_column": null,
            "overflow_y": null,
            "overflow_x": null,
            "grid_auto_flow": null,
            "grid_area": null,
            "grid_template_columns": null,
            "flex": null,
            "_model_name": "LayoutModel",
            "justify_items": null,
            "grid_row": null,
            "max_height": null,
            "align_content": null,
            "visibility": null,
            "align_self": null,
            "height": null,
            "min_height": null,
            "padding": null,
            "grid_auto_rows": null,
            "grid_gap": null,
            "max_width": null,
            "order": null,
            "_view_module_version": "1.2.0",
            "grid_template_areas": null,
            "object_position": null,
            "object_fit": null,
            "grid_auto_columns": null,
            "margin": null,
            "display": null,
            "left": null
          }
        },
        "a41effd987714aff900a3031eb768722": {
          "model_module": "@jupyter-widgets/controls",
          "model_name": "DescriptionStyleModel",
          "state": {
            "_view_name": "StyleView",
            "_model_name": "DescriptionStyleModel",
            "description_width": "",
            "_view_module": "@jupyter-widgets/base",
            "_model_module_version": "1.5.0",
            "_view_count": null,
            "_view_module_version": "1.2.0",
            "_model_module": "@jupyter-widgets/controls"
          }
        },
        "e37567309b9d4bf5962e3cdb40dccd42": {
          "model_module": "@jupyter-widgets/base",
          "model_name": "LayoutModel",
          "state": {
            "_view_name": "LayoutView",
            "grid_template_rows": null,
            "right": null,
            "justify_content": null,
            "_view_module": "@jupyter-widgets/base",
            "overflow": null,
            "_model_module_version": "1.2.0",
            "_view_count": null,
            "flex_flow": null,
            "width": null,
            "min_width": null,
            "border": null,
            "align_items": null,
            "bottom": null,
            "_model_module": "@jupyter-widgets/base",
            "top": null,
            "grid_column": null,
            "overflow_y": null,
            "overflow_x": null,
            "grid_auto_flow": null,
            "grid_area": null,
            "grid_template_columns": null,
            "flex": null,
            "_model_name": "LayoutModel",
            "justify_items": null,
            "grid_row": null,
            "max_height": null,
            "align_content": null,
            "visibility": null,
            "align_self": null,
            "height": null,
            "min_height": null,
            "padding": null,
            "grid_auto_rows": null,
            "grid_gap": null,
            "max_width": null,
            "order": null,
            "_view_module_version": "1.2.0",
            "grid_template_areas": null,
            "object_position": null,
            "object_fit": null,
            "grid_auto_columns": null,
            "margin": null,
            "display": null,
            "left": null
          }
        }
      }
    }
  },
  "cells": [
    {
      "cell_type": "markdown",
      "metadata": {
        "id": "jXHXyld86GXS"
      },
      "source": [
        "# Neural & Behavioral Modeling - Week 13 (Exercises)\n",
        "by 林子堯 (r08227112@ntu.edu.tw)"
      ]
    },
    {
      "cell_type": "code",
      "metadata": {
        "id": "FKGmX2NQ6GXX"
      },
      "source": [
        "%config IPCompleter.greedy=True \n",
        "%matplotlib inline\n",
        "from matplotlib.pyplot import *\n",
        "from IPython.display import *\n",
        "import numpy as np\n",
        "import torch as t\n",
        "from torch import nn\n",
        "from torch import optim\n",
        "from tabulate import tabulate"
      ],
      "execution_count": 45,
      "outputs": []
    },
    {
      "cell_type": "code",
      "metadata": {
        "colab": {
          "base_uri": "https://localhost:8080/"
        },
        "id": "bi_AwyKf6GXa",
        "outputId": "69e33f2b-3d73-466d-8f5e-82d042921545"
      },
      "source": [
        "# Check GPU status:\n",
        "print('PyTorch version:',t.__version__)\n",
        "use_cuda=t.cuda.is_available()\n",
        "if(use_cuda):\n",
        "    for i in range(t.cuda.device_count()):\n",
        "        print('Device ',i,':',t.cuda.get_device_name(i))\n",
        "    print('Current: Device ',t.cuda.current_device())\n",
        "    t.backends.cudnn.benchmark = True \n",
        "    device = t.device(\"cuda\")\n",
        "else:\n",
        "    device = t.device(\"cpu\")\n",
        "    print('No GPU')"
      ],
      "execution_count": 47,
      "outputs": [
        {
          "output_type": "stream",
          "text": [
            "PyTorch version: 1.7.0+cu101\n",
            "Device  0 : Tesla T4\n",
            "Current: Device  0\n"
          ],
          "name": "stdout"
        }
      ]
    },
    {
      "cell_type": "markdown",
      "metadata": {
        "id": "fJzeNHlO6GXc"
      },
      "source": [
        "## 1. RNN on images (5 points)\n",
        "Note that the RNN-based MNIST classifier in 2.1.1 of 13_examples.ipynb did not apply a softmax as the response function of its last layer.\n",
        "\n",
        "Does adding a softmax make any difference in model prediciton performance? Why or why not?\n",
        "\n",
        "Refs:\n",
        "\n",
        "[1] https://pytorch.org/docs/stable/nn.html \n",
        "\n",
        "[2] https://pytorch.org/docs/stable/nn.functional.html \n",
        "\n",
        "[3] https://pytorch.org/docs/stable/_modules/torch/nn/modules/loss.html"
      ]
    },
    {
      "cell_type": "markdown",
      "metadata": {
        "id": "Kc1CC758RJnf"
      },
      "source": [
        "### 1.1 前置作業\r\n",
        "\r\n",
        "下方 code 包含資料的載入和模型的設計。\r\n"
      ]
    },
    {
      "cell_type": "code",
      "metadata": {
        "colab": {
          "base_uri": "https://localhost:8080/",
          "height": 389,
          "referenced_widgets": [
            "8c7183ac83714700b296ee5de5c26240",
            "b817fb6a4378427288c674a191bd2ef2",
            "2159f3d6a5204d21b0cbba840e8b9bd5",
            "13a6784fc47e4dfda2129876b5ed3ca2",
            "41229c359dd94e45a9ca6fb4d1856b6c",
            "511dd6c9b73f4194b019bb132e721371",
            "8dd8e4f5f3bb408db1e7d6603c0aa32f",
            "9a9edefccff24e9aa3c47a4545de84f2",
            "04b4c8840d9e48268b7f5ca013888cac",
            "0441b99d446e4c30a6f1e5f587fdfe8a",
            "3277077d06b14783b4de67c3f0b660d8",
            "3b6de0a301824fa1bc1b7fde36dd1a83",
            "483dca3070de46d3b2154d7212dec37f",
            "adc5a381dc164d29ba3f8ee7f4f81bbb",
            "c33f973462ae45a083b913fa2a851894",
            "cb204b8e945f488dabae7e40923749e2",
            "5d9dae0f234841e98bf6414e374e150f",
            "617fef162c864243b096f24bb95d26b4",
            "269af329cb2a48628e85c3e93f1c8f2c",
            "8a68205802de491083eff78828047a71",
            "61bd7c74d6fa41d4af8bd7966e4c9c2d",
            "1d70c3a520a24afdbc534d6ec5fef445",
            "c5ac4cdbac0f421ba1e6b1d0a1074fda",
            "a20700ac50cc42e8b8525a9eaebe0ca2",
            "47b98e7c03864ae5b4b192c7a0cf0f3f",
            "a99f0cd004fb4fd087599fff8e8a2541",
            "109f646dd4aa424b851e47c6bd310321",
            "1565498fbffe4c2d80c33d987263794b",
            "c5c9c2ad4d12424497bd0786d32f847f",
            "2ae6bf1c51e44e7cba677c389cbae61f",
            "a41effd987714aff900a3031eb768722",
            "e37567309b9d4bf5962e3cdb40dccd42"
          ]
        },
        "id": "qTVEU4UL1ZxR",
        "outputId": "2a5332ea-1d93-4bcb-88d9-7f9ab16e7c04"
      },
      "source": [
        "from torchvision import datasets, transforms\r\n",
        "\r\n",
        "transform = transforms.Compose([transforms.ToTensor(),\r\n",
        "                 transforms.Normalize(mean=[0.5],std=[0.5])])\r\n",
        "\r\n",
        "train_set = datasets.MNIST(root = \"./data\",\r\n",
        "               transform = transform,\r\n",
        "               train = True,\r\n",
        "               download = True)\r\n",
        "\r\n",
        "train_data = t.utils.data.DataLoader(train_set, batch_size=64, shuffle=True)\r\n",
        "\r\n",
        "\r\n",
        "test_set = datasets.MNIST(root = \"./data\",\r\n",
        "              transform = transform,\r\n",
        "              train = False)\r\n",
        "\r\n",
        "test_data = t.utils.data.DataLoader(test_set, batch_size=64, shuffle=True)"
      ],
      "execution_count": 37,
      "outputs": [
        {
          "output_type": "stream",
          "text": [
            "Downloading http://yann.lecun.com/exdb/mnist/train-images-idx3-ubyte.gz to ./data/MNIST/raw/train-images-idx3-ubyte.gz\n"
          ],
          "name": "stdout"
        },
        {
          "output_type": "display_data",
          "data": {
            "application/vnd.jupyter.widget-view+json": {
              "model_id": "8c7183ac83714700b296ee5de5c26240",
              "version_minor": 0,
              "version_major": 2
            },
            "text/plain": [
              "HBox(children=(FloatProgress(value=1.0, bar_style='info', max=1.0), HTML(value='')))"
            ]
          },
          "metadata": {
            "tags": []
          }
        },
        {
          "output_type": "stream",
          "text": [
            "Extracting ./data/MNIST/raw/train-images-idx3-ubyte.gz to ./data/MNIST/raw\n",
            "Downloading http://yann.lecun.com/exdb/mnist/train-labels-idx1-ubyte.gz to ./data/MNIST/raw/train-labels-idx1-ubyte.gz\n"
          ],
          "name": "stdout"
        },
        {
          "output_type": "display_data",
          "data": {
            "application/vnd.jupyter.widget-view+json": {
              "model_id": "04b4c8840d9e48268b7f5ca013888cac",
              "version_minor": 0,
              "version_major": 2
            },
            "text/plain": [
              "HBox(children=(FloatProgress(value=1.0, bar_style='info', max=1.0), HTML(value='')))"
            ]
          },
          "metadata": {
            "tags": []
          }
        },
        {
          "output_type": "stream",
          "text": [
            "Extracting ./data/MNIST/raw/train-labels-idx1-ubyte.gz to ./data/MNIST/raw\n",
            "Downloading http://yann.lecun.com/exdb/mnist/t10k-images-idx3-ubyte.gz to ./data/MNIST/raw/t10k-images-idx3-ubyte.gz\n",
            "\n"
          ],
          "name": "stdout"
        },
        {
          "output_type": "display_data",
          "data": {
            "application/vnd.jupyter.widget-view+json": {
              "model_id": "5d9dae0f234841e98bf6414e374e150f",
              "version_minor": 0,
              "version_major": 2
            },
            "text/plain": [
              "HBox(children=(FloatProgress(value=1.0, bar_style='info', max=1.0), HTML(value='')))"
            ]
          },
          "metadata": {
            "tags": []
          }
        },
        {
          "output_type": "stream",
          "text": [
            "Extracting ./data/MNIST/raw/t10k-images-idx3-ubyte.gz to ./data/MNIST/raw\n",
            "Downloading http://yann.lecun.com/exdb/mnist/t10k-labels-idx1-ubyte.gz to ./data/MNIST/raw/t10k-labels-idx1-ubyte.gz\n"
          ],
          "name": "stdout"
        },
        {
          "output_type": "display_data",
          "data": {
            "application/vnd.jupyter.widget-view+json": {
              "model_id": "47b98e7c03864ae5b4b192c7a0cf0f3f",
              "version_minor": 0,
              "version_major": 2
            },
            "text/plain": [
              "HBox(children=(FloatProgress(value=1.0, bar_style='info', max=1.0), HTML(value='')))"
            ]
          },
          "metadata": {
            "tags": []
          }
        },
        {
          "output_type": "stream",
          "text": [
            "Extracting ./data/MNIST/raw/t10k-labels-idx1-ubyte.gz to ./data/MNIST/raw\n",
            "Processing...\n",
            "Done!\n"
          ],
          "name": "stdout"
        },
        {
          "output_type": "stream",
          "text": [
            "/usr/local/lib/python3.6/dist-packages/torchvision/datasets/mnist.py:480: UserWarning: The given NumPy array is not writeable, and PyTorch does not support non-writeable tensors. This means you can write to the underlying (supposedly non-writeable) NumPy array using the tensor. You may want to copy the array to protect its data or make it writeable before converting it to a tensor. This type of warning will be suppressed for the rest of this program. (Triggered internally at  /pytorch/torch/csrc/utils/tensor_numpy.cpp:141.)\n",
            "  return torch.from_numpy(parsed.astype(m[2], copy=False)).view(*s)\n"
          ],
          "name": "stderr"
        }
      ]
    },
    {
      "cell_type": "code",
      "metadata": {
        "id": "zsd8Ch2L1UKc"
      },
      "source": [
        "# Supporting functions:\r\n",
        "\r\n",
        "from datetime import datetime\r\n",
        "\r\n",
        "def get_acc(output, label):\r\n",
        "    total = output.shape[0]\r\n",
        "    _, pred_label = output.max(1)\r\n",
        "    num_correct = (pred_label == label).sum().item()\r\n",
        "    return num_correct / total\r\n",
        "\r\n",
        "\r\n",
        "def train(device, net, train_data, valid_data, num_epochs, optimizer, criterion, print_result=True):\r\n",
        "    tl, ta, vl, va = np.zeros(num_epochs), np.zeros(num_epochs), np.zeros(num_epochs), np.zeros(num_epochs)\r\n",
        "\r\n",
        "    if t.cuda.is_available():\r\n",
        "        net = net.cuda()\r\n",
        "    prev_time = datetime.now()\r\n",
        "    for epoch in range(num_epochs):\r\n",
        "        train_loss = 0\r\n",
        "        train_acc = 0\r\n",
        "        net = net.train()\r\n",
        "        #for im, label in train_data:\r\n",
        "        for im, label in train_data:\r\n",
        "            im=im.view(-1,im.shape[2],im.shape[3])\r\n",
        "            im = im.to(device)  # (bs, h, w)\r\n",
        "            label = label.to(device)\r\n",
        "            # forward\r\n",
        "            output = net(im)\r\n",
        "            loss = criterion(output, label)\r\n",
        "            # backward\r\n",
        "            optimizer.zero_grad()\r\n",
        "            loss.backward()\r\n",
        "            optimizer.step()\r\n",
        "\r\n",
        "            train_loss += loss.data.item()\r\n",
        "            train_acc += get_acc(output, label)\r\n",
        "\r\n",
        "        cur_time = datetime.now()\r\n",
        "        h, remainder = divmod((cur_time - prev_time).seconds, 3600)\r\n",
        "        m, s = divmod(remainder, 60)\r\n",
        "        time_str = \"Time %02d:%02d:%02d\" % (h, m, s)\r\n",
        "        if valid_data is not None:\r\n",
        "            valid_loss = 0\r\n",
        "            valid_acc = 0\r\n",
        "            net = net.eval()\r\n",
        "            for im, label in valid_data:\r\n",
        "                with t.no_grad():\r\n",
        "                    im=im.view(-1,im.shape[2],im.shape[3])\r\n",
        "                    im = im.to(device)\r\n",
        "                    label = label.to(device)\r\n",
        "                output = net(im)\r\n",
        "                loss = criterion(output, label)\r\n",
        "                valid_loss += loss.data.item()\r\n",
        "                valid_acc += get_acc(output, label)\r\n",
        "            epoch_str = (\r\n",
        "                \"Epoch %d. Train Loss: %f, Train Acc: %f, Valid Loss: %f, Valid Acc: %f, \"\r\n",
        "                % (epoch, train_loss / len(train_data),\r\n",
        "                   train_acc / len(train_data), valid_loss / len(valid_data),\r\n",
        "                   valid_acc / len(valid_data)))\r\n",
        "        else:\r\n",
        "            epoch_str = (\"Epoch %d. Train Loss: %f, Train Acc: %f, \" %\r\n",
        "                         (epoch, train_loss / len(train_data),\r\n",
        "                          train_acc / len(train_data)))\r\n",
        "        prev_time = cur_time\r\n",
        "        if print_result:\r\n",
        "          print(epoch_str + time_str)\r\n",
        "        tl[epoch], ta[epoch], vl[epoch], va[epoch] = train_loss/len(train_data), train_acc / len(train_data), valid_loss / len(valid_data), valid_acc / len(valid_data)\r\n",
        "        \r\n",
        "    return tl, ta, vl, va\r\n",
        "\r\n",
        "def simulation(times, device, srn_model, train_data, test_data, num_epochs, optimizer, criterion):\r\n",
        "  train_loss, train_acc, valid_loss, valid_acc = np.zeros(times), np.zeros(times), np.zeros(times), np.zeros(times)\r\n",
        "  \r\n",
        "  for time in range(times):\r\n",
        "    if srn_model == \"RNN_addSoftmax\":\r\n",
        "      srn = RNN_addSoftmax()\r\n",
        "    else:\r\n",
        "      srn = RNN()\r\n",
        "    optimizer = optim.Adam(srn.parameters())\r\n",
        "    criterion = nn.CrossEntropyLoss()\r\n",
        "    tl, ta, vl, va = train(device, srn, train_data, test_data, num_epochs, optimizer, criterion, print_result=False)\r\n",
        "    train_loss[time], train_acc[time], valid_loss[time], valid_acc[time] = tl[-1], ta[-1], vl[-1], va[-1]\r\n",
        "  \r\n",
        "  print(tabulate([['N', times, times, times, times],\r\n",
        "          ['Epochs', num_epochs, num_epochs, num_epochs, num_epochs,],\r\n",
        "          ['Min', train_loss.min(), train_acc.min(), valid_loss.min(), valid_acc.min()], \r\n",
        "          ['Mean', train_loss.mean(), train_acc.mean(), valid_loss.mean(), valid_acc.mean()],\r\n",
        "          ['Max', train_loss.max(), train_acc.max(), valid_loss.max(), valid_acc.max()],\r\n",
        "          ['Standard deviaion', train_loss.std(), train_acc.std(), valid_loss.std(), valid_acc.std()]], \r\n",
        "          headers=['Statistic', 'Train loss', 'Train accuracy', 'Valid loss', 'Valid accuracy'], tablefmt='orgtbl'))"
      ],
      "execution_count": 38,
      "outputs": []
    },
    {
      "cell_type": "code",
      "metadata": {
        "id": "BHaphZtY6GXe"
      },
      "source": [
        "# Thoe model in 2.1.1 of 13_examples.ipynb:\n",
        "\n",
        "class RNN(nn.Module):\n",
        "  def __init__(self):\n",
        "    super(RNN, self).__init__()\n",
        "    self.rnn = nn.RNN(input_size = 28,\n",
        "              hidden_size = 128,\n",
        "              num_layers = 1,\n",
        "              batch_first = True)\n",
        "    \n",
        "    self.classifier = nn.Linear(128,10)\n",
        "      \n",
        "  def forward(self, input, add_softmax=False):\n",
        "    output,_ = self.rnn(input, None)\n",
        "    output = self.classifier(output[:,-1,:])\n",
        "    return output\n",
        "\n",
        "\n",
        "class RNN_addSoftmax(nn.Module):\n",
        "  def __init__(self):\n",
        "    super(RNN_addSoftmax, self).__init__()\n",
        "    self.rnn = nn.RNN(input_size = 28,\n",
        "              hidden_size = 128,\n",
        "              num_layers = 1,\n",
        "              batch_first = True)\n",
        "    \n",
        "    self.classifier = nn.Linear(128,10)\n",
        "    self.softmax = nn.Softmax(dim=1)\n",
        "      \n",
        "  def forward(self, input):\n",
        "    output,_ = self.rnn(input, None)\n",
        "    output = self.classifier(output[:,-1,:])\n",
        "    output = self.softmax(output)\n",
        "    return output"
      ],
      "execution_count": 39,
      "outputs": []
    },
    {
      "cell_type": "markdown",
      "metadata": {
        "id": "iR4B_M3SRRgw"
      },
      "source": [
        "### 1.2 結果"
      ]
    },
    {
      "cell_type": "markdown",
      "metadata": {
        "id": "hTntVpp03YTs"
      },
      "source": [
        "此為純粹跑原始老師在範例 2.1.1 RNN 的模型。"
      ]
    },
    {
      "cell_type": "code",
      "metadata": {
        "colab": {
          "base_uri": "https://localhost:8080/"
        },
        "id": "DFyLPUaA6GXg",
        "outputId": "367b5102-a8a9-40fc-a202-b136bd530f63"
      },
      "source": [
        "# Please run your computational experiments and write your observations accordingly.\r\n",
        "srn = RNN()\r\n",
        "optimizer = optim.Adam(srn.parameters())\r\n",
        "criterion = nn.CrossEntropyLoss()\r\n",
        "tl, ta, vl, va = train(device, srn, train_data, test_data, 10, optimizer, criterion)"
      ],
      "execution_count": 40,
      "outputs": [
        {
          "output_type": "stream",
          "text": [
            "Epoch 0. Train Loss: 0.731821, Train Acc: 0.756163, Valid Loss: 0.399089, Valid Acc: 0.882663, Time 00:00:12\n",
            "Epoch 1. Train Loss: 0.307299, Train Acc: 0.910148, Valid Loss: 0.287347, Valid Acc: 0.914311, Time 00:00:14\n",
            "Epoch 2. Train Loss: 0.234134, Train Acc: 0.933669, Valid Loss: 0.214974, Valid Acc: 0.942576, Time 00:00:14\n",
            "Epoch 3. Train Loss: 0.202442, Train Acc: 0.942148, Valid Loss: 0.177650, Valid Acc: 0.950936, Time 00:00:14\n",
            "Epoch 4. Train Loss: 0.180891, Train Acc: 0.949310, Valid Loss: 0.174874, Valid Acc: 0.951533, Time 00:00:13\n",
            "Epoch 5. Train Loss: 0.157846, Train Acc: 0.954791, Valid Loss: 0.139102, Valid Acc: 0.959395, Time 00:00:14\n",
            "Epoch 6. Train Loss: 0.147903, Train Acc: 0.958239, Valid Loss: 0.146285, Valid Acc: 0.960390, Time 00:00:13\n",
            "Epoch 7. Train Loss: 0.144054, Train Acc: 0.959039, Valid Loss: 0.160419, Valid Acc: 0.955713, Time 00:00:13\n",
            "Epoch 8. Train Loss: 0.139450, Train Acc: 0.961054, Valid Loss: 0.123860, Valid Acc: 0.965764, Time 00:00:13\n",
            "Epoch 9. Train Loss: 0.128686, Train Acc: 0.963903, Valid Loss: 0.166291, Valid Acc: 0.952627, Time 00:00:14\n"
          ],
          "name": "stdout"
        }
      ]
    },
    {
      "cell_type": "markdown",
      "metadata": {
        "id": "q_sYvZ7e3j7S"
      },
      "source": [
        "下方為原始 RNN 模型再多加入一層 sigmoid 轉換。"
      ]
    },
    {
      "cell_type": "code",
      "metadata": {
        "colab": {
          "base_uri": "https://localhost:8080/"
        },
        "id": "NputgAte4WcV",
        "outputId": "074474d2-9e28-4f53-969f-9d16532a9389"
      },
      "source": [
        "srn_softmax = RNN_addSoftmax()\r\n",
        "optimizer = optim.Adam(srn_softmax.parameters())\r\n",
        "criterion = nn.CrossEntropyLoss()\r\n",
        "tl_softmax, ta_softmax, vl_softmax, va_softmax = train(device, srn_softmax, train_data, test_data, 10, optimizer, criterion)"
      ],
      "execution_count": 41,
      "outputs": [
        {
          "output_type": "stream",
          "text": [
            "Epoch 0. Train Loss: 1.847917, Train Acc: 0.625400, Valid Loss: 1.726933, Valid Acc: 0.738455, Time 00:00:12\n",
            "Epoch 1. Train Loss: 1.714777, Train Acc: 0.749600, Valid Loss: 1.671100, Valid Acc: 0.791401, Time 00:00:13\n",
            "Epoch 2. Train Loss: 1.684834, Train Acc: 0.778252, Valid Loss: 1.640196, Valid Acc: 0.823547, Time 00:00:13\n",
            "Epoch 3. Train Loss: 1.630426, Train Acc: 0.832822, Valid Loss: 1.587276, Valid Acc: 0.875498, Time 00:00:13\n",
            "Epoch 4. Train Loss: 1.608754, Train Acc: 0.854394, Valid Loss: 1.583827, Valid Acc: 0.879180, Time 00:00:13\n",
            "Epoch 5. Train Loss: 1.599189, Train Acc: 0.863639, Valid Loss: 1.579466, Valid Acc: 0.883957, Time 00:00:13\n",
            "Epoch 6. Train Loss: 1.569110, Train Acc: 0.893490, Valid Loss: 1.564382, Valid Acc: 0.897592, Time 00:00:13\n",
            "Epoch 7. Train Loss: 1.568084, Train Acc: 0.894190, Valid Loss: 1.559067, Valid Acc: 0.902269, Time 00:00:13\n",
            "Epoch 8. Train Loss: 1.572393, Train Acc: 0.890159, Valid Loss: 1.570619, Valid Acc: 0.890127, Time 00:00:13\n",
            "Epoch 9. Train Loss: 1.571555, Train Acc: 0.889925, Valid Loss: 1.541584, Valid Acc: 0.920283, Time 00:00:13\n"
          ],
          "name": "stdout"
        }
      ]
    },
    {
      "cell_type": "markdown",
      "metadata": {
        "id": "WvmTLOl53srW"
      },
      "source": [
        "將這兩者訓練完一次的學習紀錄作圖"
      ]
    },
    {
      "cell_type": "code",
      "metadata": {
        "colab": {
          "base_uri": "https://localhost:8080/",
          "height": 282
        },
        "id": "aJDFm-q5J70i",
        "outputId": "c2641be5-21b8-499d-e02e-040bd030b0e9"
      },
      "source": [
        "t = range(len(ta))\r\n",
        "plot(t, ta, \"bv-\", t, ta_softmax, \"r^-\", t, va, \"c.-\", t, va_softmax, \"yx-\")\r\n",
        "legend([\"training accuracy\", \"training accuracy_softmax\", \"valid accuracy\", \"valid accuracy_softmax\"])"
      ],
      "execution_count": 42,
      "outputs": [
        {
          "output_type": "execute_result",
          "data": {
            "text/plain": [
              "<matplotlib.legend.Legend at 0x7f260a29c5f8>"
            ]
          },
          "metadata": {
            "tags": []
          },
          "execution_count": 42
        },
        {
          "output_type": "display_data",
          "data": {
            "image/png": "[encoded data removed]",
            "text/plain": [
              "<Figure size 432x288 with 1 Axes>"
            ]
          },
          "metadata": {
            "tags": [],
            "needs_background": "light"
          }
        }
      ]
    },
    {
      "cell_type": "markdown",
      "metadata": {
        "id": "MityAj_TRkBG"
      },
      "source": [
        "可以發現原始 RNN 模型不管在 trainining accuracy 或是 valid accoracy 都高於 RNN + sigmoid 的模型，表示多加了 sigmoid 的轉換反而學習效率變差了！"
      ]
    },
    {
      "cell_type": "markdown",
      "metadata": {
        "id": "RnEaVruXRimv"
      },
      "source": [
        "但上方只有執行一次，說不定就僅僅剛好那次有這樣子的差異。為了確保真的多加了 sigmoid 轉換學習效率變差，我分別將這兩種模型分別模擬 10 次，其中每次都只做 5 次epochs，最後再來計算 loss 和 accuracy 分別的統計。\r\n"
      ]
    },
    {
      "cell_type": "code",
      "metadata": {
        "id": "0cb3zRJYu_G9",
        "colab": {
          "base_uri": "https://localhost:8080/"
        },
        "outputId": "d22befa2-2036-4be2-ac58-7ee36cbb7765"
      },
      "source": [
        "simulation(10, device, \"RNN\", train_data, test_data, 5, optimizer, criterion)"
      ],
      "execution_count": 48,
      "outputs": [
        {
          "output_type": "stream",
          "text": [
            "| Statistic         |   Train loss |   Train accuracy |   Valid loss |   Valid accuracy |\n",
            "|-------------------+--------------+------------------+--------------+------------------|\n",
            "| N                 |   10         |      10          |   10         |        10        |\n",
            "| Epochs            |    5         |       5          |    5         |         5        |\n",
            "| Min               |    0.165352  |       0.938266   |    0.147907  |         0.924164 |\n",
            "| Mean              |    0.17935   |       0.949122   |    0.190299  |         0.946646 |\n",
            "| Max               |    0.215899  |       0.952659   |    0.270021  |         0.960589 |\n",
            "| Standard deviaion |    0.0135184 |       0.00386338 |    0.0388678 |         0.011211 |\n"
          ],
          "name": "stdout"
        }
      ]
    },
    {
      "cell_type": "code",
      "metadata": {
        "colab": {
          "base_uri": "https://localhost:8080/"
        },
        "id": "Dun9FU_6SfQr",
        "outputId": "b9526d94-8f0a-47aa-efe0-be5d912ebdef"
      },
      "source": [
        "simulation(10, device, \"RNN_addSoftmax\", train_data, test_data, 5, optimizer, criterion)"
      ],
      "execution_count": 49,
      "outputs": [
        {
          "output_type": "stream",
          "text": [
            "| Statistic         |   Train loss |   Train accuracy |   Valid loss |   Valid accuracy |\n",
            "|-------------------+--------------+------------------+--------------+------------------|\n",
            "| N                 |   10         |       10         |   10         |       10         |\n",
            "| Epochs            |    5         |        5         |    5         |        5         |\n",
            "| Min               |    1.55991   |        0.710888  |    1.54464   |        0.740844  |\n",
            "| Mean              |    1.62826   |        0.834313  |    1.60555   |        0.857136  |\n",
            "| Max               |    1.75165   |        0.902852  |    1.7223    |        0.91879   |\n",
            "| Standard deviaion |    0.0520695 |        0.0521934 |    0.0517732 |        0.0517212 |\n"
          ],
          "name": "stdout"
        }
      ]
    },
    {
      "cell_type": "markdown",
      "metadata": {
        "id": "fZSBcxymRjgF"
      },
      "source": [
        "比較上方兩種結果可以發現，多加了 softmax 轉換，不管是在 training 和 valid dataset 上，學習效率都比沒有加的還要差！\r\n"
      ]
    },
    {
      "cell_type": "markdown",
      "metadata": {
        "id": "A8ddSRiEZZ0H"
      },
      "source": [
        "### 1.3 學習不好的可能原因\r\n",
        "\r\n",
        "這兩種差異在於後者多加了一層 softmax 的轉換，然而先前老師上課提到過，在分類問題上應該將 NN 的最後一層經過 softmax 使得變成每個預測值代表的是是每個類別的預測機率 (總合為 1)，再經由 cross entropy 的公式來計算 loss 的大小。然而在這邊卻「看似」加了 `nn.Softmax()` 以及用 `nn.CrossEntroypyLoss()` 表現反而比沒有加 `nn.Softmax()` 還要來的糟！\r\n",
        "\r\n",
        "這主要的原由在於，PyTorch 在[CROSSENTROPYLOSS 官方文件](https://pytorch.org/docs/stable/generated/torch.nn.CrossEntropyLoss.html#torch.nn.CrossEntropyLoss)中就有提到：\r\n",
        "\r\n",
        "> This criterion combines `nn.LogSoftmax()` and `nn.NLLLoss()` in one single class.\r\n",
        "\r\n",
        "其 cross entroypy loss 的計算方式為：\r\n",
        "\r\n",
        "$$\r\n",
        "loss(x, class) = -log(\\color{red}{\\frac{exp(x[class])}{\\sum_j exp(x[j])}})\r\n",
        "$$\r\n",
        "\r\n",
        "而 [`nn.Softmax()`](https://pytorch.org/docs/stable/generated/torch.nn.Softmax.html#torch.nn.Softmax) 的公式為：\r\n",
        "\r\n",
        "$$\r\n",
        "Softmax(x_i) = \\frac{exp(x_i)}{\\sum_j exp(x_j)}\r\n",
        "$$\r\n",
        "\r\n",
        "可以發現其實 `nn.CrossEntroypyLoss()` 就已經會做 softmax 的轉換了！若我們自己在模型中多加一次 softmax 轉換，這會使得對每一個預測類別的強度模糊掉。舉例來說：\r\n",
        "\r\n"
      ]
    },
    {
      "cell_type": "code",
      "metadata": {
        "colab": {
          "base_uri": "https://localhost:8080/"
        },
        "id": "xIzIzH-GtBZ5",
        "outputId": "ce0a0d53-536e-4e2c-dc36-618e512e2e22"
      },
      "source": [
        "softmax = nn.Softmax(dim=1)\r\n",
        "p = t.tensor([[.5, .2, .1]])\r\n",
        "print(p)\r\n",
        "print(softmax(p))\r\n",
        "print(softmax(softmax(p)))"
      ],
      "execution_count": 49,
      "outputs": [
        {
          "output_type": "stream",
          "text": [
            "tensor([[0.5000, 0.2000, 0.1000]])\n",
            "tensor([[0.4147, 0.3072, 0.2780]])\n",
            "tensor([[0.3610, 0.3242, 0.3148]])\n"
          ],
          "name": "stdout"
        }
      ]
    },
    {
      "cell_type": "markdown",
      "metadata": {
        "id": "X6erWjCDuqPa"
      },
      "source": [
        "因此，在這我們計算 loss 上會有所偏差。另一方面，我們知道在參數學習上如果我們多做一次 softmax，可能會使我們在做 backpropagation 所給予參數更新的權重又變小一些。總上所述，由於 cross entroypy loss 那邊就已經做過一次 softmax 轉換了，如果我們模型自己在最後一層多加 softmax 轉換，這會使得模型學習效率變差。  "
      ]
    },
    {
      "cell_type": "markdown",
      "metadata": {
        "id": "xve7tZ9H6GXh"
      },
      "source": [
        "## 2. RNN v.s. CNN (5 points)\n",
        "Compare the results of 2.2.1 (RNN) & 2.3.1 (CNN) in 13_examples.ipynb.\n",
        "\n",
        "The 1D-CNN seems to predict the time series better than the RNN. Why?\n",
        "\n",
        "You may verify your hypotheses by computational experiments."
      ]
    },
    {
      "cell_type": "code",
      "metadata": {
        "id": "fKIJVBJT6GXi",
        "outputId": "402c4ad5-967e-4002-b0d1-e0d3fb7ab782"
      },
      "source": [
        "# 2.2.1 (RNN):"
      ],
      "execution_count": null,
      "outputs": [
        {
          "output_type": "stream",
          "text": [
            "torch.Size([142, 1, 1]) (142,) 144\n"
          ],
          "name": "stdout"
        },
        {
          "output_type": "display_data",
          "data": {
            "image/png": "[encoded data removed]",
            "text/plain": [
              "<Figure size 432x288 with 1 Axes>"
            ]
          },
          "metadata": {
            "tags": [],
            "needs_background": "light"
          }
        }
      ]
    },
    {
      "cell_type": "code",
      "metadata": {
        "id": "f4AQXTHI6GXj",
        "outputId": "75976586-d0ae-44f6-e02a-eb8ad908f5a0"
      },
      "source": [
        "# 2.3.1 (CNN):"
      ],
      "execution_count": null,
      "outputs": [
        {
          "output_type": "stream",
          "text": [
            "torch.Size([142, 1]) (142,) 144\n"
          ],
          "name": "stdout"
        },
        {
          "output_type": "display_data",
          "data": {
            "image/png": "[encoded data removed]",
            "text/plain": [
              "<Figure size 432x288 with 1 Axes>"
            ]
          },
          "metadata": {
            "tags": [],
            "needs_background": "light"
          }
        }
      ]
    },
    {
      "cell_type": "markdown",
      "metadata": {
        "id": "TonVb5dpWYYu"
      },
      "source": [
        "老師上圖中有個小錯誤，藍線往左多平移了一格 (程式最後一行從 `plot(dataset[2:], ...` 修改為 `plot(dataset[1:], ...)`)\r\n",
        "\r\n",
        "<img src='https://github.com/xup6y3ul6/Neural-and-Behavioral-Modeling/blob/main/13_Deep-learning%20Neural%20Networks%20(3-4)%20Recurrent%20Neural%20Network%20(RNN)/cnn1d_result.png?raw=true' alt=\"drawing\" width=\"500\"/>\r\n",
        "\r\n",
        "因此實際上 CNN 在此範例中是預測的真的很好。\r\n"
      ]
    },
    {
      "cell_type": "markdown",
      "metadata": {
        "id": "q6QuxMN9ccn2"
      },
      "source": [
        "### 2.2 實驗假設"
      ]
    },
    {
      "cell_type": "markdown",
      "metadata": {
        "id": "XxhVrGnL0Qm3"
      },
      "source": [
        "從 2.2.1 (RNN) 的那張圖大致上可以觀察到，其實在 training data 的 LSTM 其實是擬合的不錯，但是到了 testing data 就有很大的偏差，雖然說整個波形還是有出來，有描繪出短期的變化，但我覺得這個模型似乎沒抓到整個時間序列中，有一個長期上升的趨勢 (短視近利)。因此我猜想也許原本 LSTM 的設定中，僅以前兩期 (look_back = imput_size = 2) 納入考量可能太小了。因此我假設\r\n",
        "\r\n",
        "> window = look_back = imput_size 的增加，可以讓 LSTM 模型預測未來資料能更好！\r\n",
        "\r\n"
      ]
    },
    {
      "cell_type": "markdown",
      "metadata": {
        "id": "xAC7o43FcZKn"
      },
      "source": [
        "### 2.2 前置設定"
      ]
    },
    {
      "cell_type": "code",
      "metadata": {
        "id": "mjImCsxxWXHz"
      },
      "source": [
        "# Please run your computational experiments and write your observations accordingly.\r\n",
        "import pandas as pd\r\n",
        "\r\n",
        "# Load data:\r\n",
        "ts = pd.read_csv('https://raw.githubusercontent.com/xup6y3ul6/Neural-and-Behavioral-Modeling/main/13_Deep-learning%20Neural%20Networks%20(3-4)%20Recurrent%20Neural%20Network%20(RNN)/data.csv', usecols=[1]).dropna().values.astype('float32')\r\n",
        "\r\n",
        "# Normalize:\r\n",
        "max_value = np.max(ts)\r\n",
        "min_value = np.min(ts)\r\n",
        "scalar = max_value - min_value\r\n",
        "dataset = list(map(lambda x: x / scalar, ts))\r\n",
        "\r\n",
        "def get_data(window):\r\n",
        "  # Prepare windowed data for our RNN model(s):\r\n",
        "  dataX, dataY = [], []\r\n",
        "  look_back = window\r\n",
        "  for i in range(len(dataset) - look_back):\r\n",
        "    a = dataset[i:(i + look_back)]\r\n",
        "    dataX.append(a)\r\n",
        "    dataY.append(dataset[i + look_back])\r\n",
        "  data_X, data_Y = np.array(dataX), np.array(dataY)\r\n",
        "\r\n",
        "  # Train-Test split:\r\n",
        "  train_size = int(len(data_X) * 0.7) # 70% for training  \r\n",
        "  test_size = len(data_X) - train_size\r\n",
        "  train_X = data_X[:train_size]\r\n",
        "  train_Y = data_Y[:train_size]\r\n",
        "  test_X = data_X[train_size:]\r\n",
        "  test_Y = data_Y[train_size:]\r\n",
        "\r\n",
        "  # Reshape the data into (seq, batch, featue)\r\n",
        "  train_X = train_X.reshape(-1, 1, window)\r\n",
        "  train_Y = train_Y.reshape(-1, 1, 1)\r\n",
        "  test_X = test_X.reshape(-1, 1, window)\r\n",
        "\r\n",
        "  train_x = t.from_numpy(train_X)\r\n",
        "  train_y = t.from_numpy(train_Y)\r\n",
        "  test_x = t.from_numpy(test_X)\r\n",
        "  \r\n",
        "  return train_x, train_y, test_x, data_X, data_Y"
      ],
      "execution_count": 50,
      "outputs": []
    },
    {
      "cell_type": "code",
      "metadata": {
        "id": "VbPr3L3XP3HL"
      },
      "source": [
        "class lstm_reg(nn.Module):\r\n",
        "    def __init__(self, input_size, hidden_size, output_size=1, num_layers=2):\r\n",
        "        super(lstm_reg, self).__init__()\r\n",
        "        self.rnn = nn.LSTM(input_size, hidden_size, num_layers) # rnn\r\n",
        "        self.reg = nn.Linear(hidden_size, output_size) # regression\r\n",
        "        \r\n",
        "    def forward(self, x):\r\n",
        "        x, _ = self.rnn(x) # (seq, batch, hidden)\r\n",
        "        s, b, h = x.shape\r\n",
        "        x = x.view(s*b, h) # flatten\r\n",
        "        x = self.reg(x)\r\n",
        "        x = x.view(s, b, -1)\r\n",
        "        return x"
      ],
      "execution_count": 51,
      "outputs": []
    },
    {
      "cell_type": "code",
      "metadata": {
        "id": "8Nhw1YgR2LNo"
      },
      "source": [
        "def train_model(window, train_x, train_y):\r\n",
        "\r\n",
        "  net_lstm = lstm_reg(input_size=window, hidden_size=10)\r\n",
        "  criterion = nn.MSELoss()\r\n",
        "  optimizer = t.optim.Adam(net_lstm.parameters(),lr=1e-2)\r\n",
        "\r\n",
        "  # Training:\r\n",
        "  iters = 1000+50*window\r\n",
        "  for e in range(iters):\r\n",
        "      # Forward:\r\n",
        "      out = net_lstm(train_x)\r\n",
        "      loss = criterion(out, train_y)\r\n",
        "      # Backward:\r\n",
        "      optimizer.zero_grad()\r\n",
        "      loss.backward()\r\n",
        "      optimizer.step()\r\n",
        "      #if (e + 1) % 100 == 0: # print loss every 100 epochs\r\n",
        "      #    print('Epoch: {}, Loss: {:.5f}'.format(e + 1, loss.item()))\r\n",
        "  return net_lstm\r\n",
        "\r\n",
        "def print_result(window, net_lstm, data_X, train_size):\r\n",
        "  # Testing on the whole series (70% trained + 30% untrained):\r\n",
        "  net_lstm2 = net_lstm.eval() \r\n",
        "  data_X2 = data_X.reshape(-1, 1, window)\r\n",
        "  data_X3 = t.from_numpy(data_X2)\r\n",
        "  pred_test1 = net_lstm2(data_X3) \r\n",
        "  pred_test2 = pred_test1.view(-1).data.numpy() # reshaping to a simple time series\r\n",
        "  \r\n",
        "  # Visualization:\r\n",
        "  plot(pred_test2, 'r', label='prediction')\r\n",
        "  plot(dataset[window:], 'b', label='real')\r\n",
        "  axvline(x=train_size, c='r', linestyle='--')\r\n",
        "  title(\"LTRM: window is \"+str(window))"
      ],
      "execution_count": 69,
      "outputs": []
    },
    {
      "cell_type": "markdown",
      "metadata": {
        "id": "wt-TtNiQcg2c"
      },
      "source": [
        "### 2.3 結果"
      ]
    },
    {
      "cell_type": "markdown",
      "metadata": {
        "id": "Hvevkw-iJQzf"
      },
      "source": [
        "下方我分別調控不同的 window 值的大小，並作圖來看整個時間的真實值與 LSTM 預測表現上有無差距。"
      ]
    },
    {
      "cell_type": "code",
      "metadata": {
        "colab": {
          "base_uri": "https://localhost:8080/",
          "height": 1000
        },
        "id": "A4UPRqBuPREY",
        "outputId": "9756b0ad-955c-4aa2-de34-de29361613d9"
      },
      "source": [
        "windows = np.array([1,2,4,6,9,12,16,20])\r\n",
        "i = 1\r\n",
        "for window in windows:\r\n",
        "  train_x, train_y, test_x, data_X, data_Y = get_data(window)\r\n",
        "  net_lstm = train_model(window, train_x, train_y)\r\n",
        "  train_size = train_x.size(0)\r\n",
        "  figure(i)\r\n",
        "  print_result(window, net_lstm, data_X, train_size)\r\n",
        "  i += 1"
      ],
      "execution_count": 70,
      "outputs": [
        {
          "output_type": "display_data",
          "data": {
            "image/png": "[encoded data removed]",
            "text/plain": [
              "<Figure size 432x288 with 1 Axes>"
            ]
          },
          "metadata": {
            "tags": [],
            "needs_background": "light"
          }
        },
        {
          "output_type": "display_data",
          "data": {
            "image/png": "[encoded data removed]",
            "text/plain": [
              "<Figure size 432x288 with 1 Axes>"
            ]
          },
          "metadata": {
            "tags": [],
            "needs_background": "light"
          }
        },
        {
          "output_type": "display_data",
          "data": {
            "image/png": "[encoded data removed]",
            "text/plain": [
              "<Figure size 432x288 with 1 Axes>"
            ]
          },
          "metadata": {
            "tags": [],
            "needs_background": "light"
          }
        },
        {
          "output_type": "display_data",
          "data": {
            "image/png": "[encoded data removed]",
            "text/plain": [
              "<Figure size 432x288 with 1 Axes>"
            ]
          },
          "metadata": {
            "tags": [],
            "needs_background": "light"
          }
        },
        {
          "output_type": "display_data",
          "data": {
            "image/png": "[encoded data removed]",
            "text/plain": [
              "<Figure size 432x288 with 1 Axes>"
            ]
          },
          "metadata": {
            "tags": [],
            "needs_background": "light"
          }
        },
        {
          "output_type": "display_data",
          "data": {
            "image/png": "[encoded data removed]",
            "text/plain": [
              "<Figure size 432x288 with 1 Axes>"
            ]
          },
          "metadata": {
            "tags": [],
            "needs_background": "light"
          }
        },
        {
          "output_type": "display_data",
          "data": {
            "image/png": "[encoded data removed]",
            "text/plain": [
              "<Figure size 432x288 with 1 Axes>"
            ]
          },
          "metadata": {
            "tags": [],
            "needs_background": "light"
          }
        },
        {
          "output_type": "display_data",
          "data": {
            "image/png": "[encoded data removed]",
            "text/plain": [
              "<Figure size 432x288 with 1 Axes>"
            ]
          },
          "metadata": {
            "tags": [],
            "needs_background": "light"
          }
        }
      ]
    },
    {
      "cell_type": "markdown",
      "metadata": {
        "id": "FouygEQEHeBE"
      },
      "source": [
        "結果可以看到，當隨著 window 越大，LSTM 擬合的會越好，而且他在 testing data 上預測上也越加準確，比起 window 小的時候，更能捕捉到長期上升的趨勢。假若我們今想要找個「最佳」的 LSTM 模型，或許我們可以使用 cross-validation 的方式來尋找合適的 window 值。\r\n",
        "\r\n",
        "但如果我們拿 LSTM (window=20) 來與範例 2.3.1 之 1D-CNN 的模型來比較，似乎 LSTM 還是的預測力還是差了一點，但原因就近為何目前還尚未有明確的想法QQ，但 LSTM 表險差的原因可能會是與 window 選擇不好有關 (太小值會短視近利)。"
      ]
    }
  ]
}