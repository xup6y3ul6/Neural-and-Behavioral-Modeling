{
  "nbformat": 4,
  "nbformat_minor": 0,
  "metadata": {
    "kernelspec": {
      "display_name": "Python 3",
      "language": "python",
      "name": "python3"
    },
    "language_info": {
      "codemirror_mode": {
        "name": "ipython",
        "version": 3
      },
      "file_extension": ".py",
      "mimetype": "text/x-python",
      "name": "python",
      "nbconvert_exporter": "python",
      "pygments_lexer": "ipython3",
      "version": "3.6.8"
    },
    "colab": {
      "name": "12_exercises.ipynb",
      "provenance": [],
      "collapsed_sections": []
    },
    "accelerator": "GPU",
    "widgets": {
      "application/vnd.jupyter.widget-state+json": {
        "8c0a2e54b1b841759ca45412380779a3": {
          "model_module": "@jupyter-widgets/controls",
          "model_name": "HBoxModel",
          "state": {
            "_view_name": "HBoxView",
            "_dom_classes": [],
            "_model_name": "HBoxModel",
            "_view_module": "@jupyter-widgets/controls",
            "_model_module_version": "1.5.0",
            "_view_count": null,
            "_view_module_version": "1.5.0",
            "box_style": "",
            "layout": "IPY_MODEL_8e160573d049420780c69de87e4b642f",
            "_model_module": "@jupyter-widgets/controls",
            "children": [
              "IPY_MODEL_91f74f87f3be4ec094e0eab66e8be903",
              "IPY_MODEL_8cfb0c0157a54e6d80b6368378a012c9"
            ]
          }
        },
        "8e160573d049420780c69de87e4b642f": {
          "model_module": "@jupyter-widgets/base",
          "model_name": "LayoutModel",
          "state": {
            "_view_name": "LayoutView",
            "grid_template_rows": null,
            "right": null,
            "justify_content": null,
            "_view_module": "@jupyter-widgets/base",
            "overflow": null,
            "_model_module_version": "1.2.0",
            "_view_count": null,
            "flex_flow": null,
            "width": null,
            "min_width": null,
            "border": null,
            "align_items": null,
            "bottom": null,
            "_model_module": "@jupyter-widgets/base",
            "top": null,
            "grid_column": null,
            "overflow_y": null,
            "overflow_x": null,
            "grid_auto_flow": null,
            "grid_area": null,
            "grid_template_columns": null,
            "flex": null,
            "_model_name": "LayoutModel",
            "justify_items": null,
            "grid_row": null,
            "max_height": null,
            "align_content": null,
            "visibility": null,
            "align_self": null,
            "height": null,
            "min_height": null,
            "padding": null,
            "grid_auto_rows": null,
            "grid_gap": null,
            "max_width": null,
            "order": null,
            "_view_module_version": "1.2.0",
            "grid_template_areas": null,
            "object_position": null,
            "object_fit": null,
            "grid_auto_columns": null,
            "margin": null,
            "display": null,
            "left": null
          }
        },
        "91f74f87f3be4ec094e0eab66e8be903": {
          "model_module": "@jupyter-widgets/controls",
          "model_name": "FloatProgressModel",
          "state": {
            "_view_name": "ProgressView",
            "style": "IPY_MODEL_42363af442d84ab9b748562db1e1a392",
            "_dom_classes": [],
            "description": "",
            "_model_name": "FloatProgressModel",
            "bar_style": "info",
            "max": 1,
            "_view_module": "@jupyter-widgets/controls",
            "_model_module_version": "1.5.0",
            "value": 1,
            "_view_count": null,
            "_view_module_version": "1.5.0",
            "orientation": "horizontal",
            "min": 0,
            "description_tooltip": null,
            "_model_module": "@jupyter-widgets/controls",
            "layout": "IPY_MODEL_a89a5b3748554d9b810f51c45dcba659"
          }
        },
        "8cfb0c0157a54e6d80b6368378a012c9": {
          "model_module": "@jupyter-widgets/controls",
          "model_name": "HTMLModel",
          "state": {
            "_view_name": "HTMLView",
            "style": "IPY_MODEL_d1476635ef8547f2ae90cb26e2074452",
            "_dom_classes": [],
            "description": "",
            "_model_name": "HTMLModel",
            "placeholder": "​",
            "_view_module": "@jupyter-widgets/controls",
            "_model_module_version": "1.5.0",
            "value": " 170500096/? [00:40&lt;00:00, 10322052.90it/s]",
            "_view_count": null,
            "_view_module_version": "1.5.0",
            "description_tooltip": null,
            "_model_module": "@jupyter-widgets/controls",
            "layout": "IPY_MODEL_756f473eb76647b1b020dc035d7432b1"
          }
        },
        "42363af442d84ab9b748562db1e1a392": {
          "model_module": "@jupyter-widgets/controls",
          "model_name": "ProgressStyleModel",
          "state": {
            "_view_name": "StyleView",
            "_model_name": "ProgressStyleModel",
            "description_width": "initial",
            "_view_module": "@jupyter-widgets/base",
            "_model_module_version": "1.5.0",
            "_view_count": null,
            "_view_module_version": "1.2.0",
            "bar_color": null,
            "_model_module": "@jupyter-widgets/controls"
          }
        },
        "a89a5b3748554d9b810f51c45dcba659": {
          "model_module": "@jupyter-widgets/base",
          "model_name": "LayoutModel",
          "state": {
            "_view_name": "LayoutView",
            "grid_template_rows": null,
            "right": null,
            "justify_content": null,
            "_view_module": "@jupyter-widgets/base",
            "overflow": null,
            "_model_module_version": "1.2.0",
            "_view_count": null,
            "flex_flow": null,
            "width": null,
            "min_width": null,
            "border": null,
            "align_items": null,
            "bottom": null,
            "_model_module": "@jupyter-widgets/base",
            "top": null,
            "grid_column": null,
            "overflow_y": null,
            "overflow_x": null,
            "grid_auto_flow": null,
            "grid_area": null,
            "grid_template_columns": null,
            "flex": null,
            "_model_name": "LayoutModel",
            "justify_items": null,
            "grid_row": null,
            "max_height": null,
            "align_content": null,
            "visibility": null,
            "align_self": null,
            "height": null,
            "min_height": null,
            "padding": null,
            "grid_auto_rows": null,
            "grid_gap": null,
            "max_width": null,
            "order": null,
            "_view_module_version": "1.2.0",
            "grid_template_areas": null,
            "object_position": null,
            "object_fit": null,
            "grid_auto_columns": null,
            "margin": null,
            "display": null,
            "left": null
          }
        },
        "d1476635ef8547f2ae90cb26e2074452": {
          "model_module": "@jupyter-widgets/controls",
          "model_name": "DescriptionStyleModel",
          "state": {
            "_view_name": "StyleView",
            "_model_name": "DescriptionStyleModel",
            "description_width": "",
            "_view_module": "@jupyter-widgets/base",
            "_model_module_version": "1.5.0",
            "_view_count": null,
            "_view_module_version": "1.2.0",
            "_model_module": "@jupyter-widgets/controls"
          }
        },
        "756f473eb76647b1b020dc035d7432b1": {
          "model_module": "@jupyter-widgets/base",
          "model_name": "LayoutModel",
          "state": {
            "_view_name": "LayoutView",
            "grid_template_rows": null,
            "right": null,
            "justify_content": null,
            "_view_module": "@jupyter-widgets/base",
            "overflow": null,
            "_model_module_version": "1.2.0",
            "_view_count": null,
            "flex_flow": null,
            "width": null,
            "min_width": null,
            "border": null,
            "align_items": null,
            "bottom": null,
            "_model_module": "@jupyter-widgets/base",
            "top": null,
            "grid_column": null,
            "overflow_y": null,
            "overflow_x": null,
            "grid_auto_flow": null,
            "grid_area": null,
            "grid_template_columns": null,
            "flex": null,
            "_model_name": "LayoutModel",
            "justify_items": null,
            "grid_row": null,
            "max_height": null,
            "align_content": null,
            "visibility": null,
            "align_self": null,
            "height": null,
            "min_height": null,
            "padding": null,
            "grid_auto_rows": null,
            "grid_gap": null,
            "max_width": null,
            "order": null,
            "_view_module_version": "1.2.0",
            "grid_template_areas": null,
            "object_position": null,
            "object_fit": null,
            "grid_auto_columns": null,
            "margin": null,
            "display": null,
            "left": null
          }
        }
      }
    }
  },
  "cells": [
    {
      "cell_type": "markdown",
      "metadata": {
        "id": "LTiBx_O0w6N1"
      },
      "source": [
        "# Neural & Behavioral Modeling - Week 12 (Exercises)\n",
        "by 林子堯 (r08227112@ntu.edu.tw)"
      ]
    },
    {
      "cell_type": "code",
      "metadata": {
        "id": "xyqtOiRYw6N2"
      },
      "source": [
        "%config IPCompleter.greedy=True \n",
        "%matplotlib inline\n",
        "from matplotlib.pyplot import *\n",
        "from IPython.display import *\n",
        "import numpy as np\n",
        "from tabulate import tabulate"
      ],
      "execution_count": 1,
      "outputs": []
    },
    {
      "cell_type": "code",
      "metadata": {
        "colab": {
          "base_uri": "https://localhost:8080/"
        },
        "id": "O2a5d1RPw6N2",
        "outputId": "6750e9d2-8000-42b1-8b3e-7a48acd6e6c0"
      },
      "source": [
        "# Check GPU status:\n",
        "import torch as t\n",
        "print('PyTorch version:',t.__version__)\n",
        "use_cuda=t.cuda.is_available()\n",
        "if(use_cuda):\n",
        "    for i in range(t.cuda.device_count()):\n",
        "        print('Device ',i,':',t.cuda.get_device_name(i))\n",
        "    print('Current: Device ',t.cuda.current_device())\n",
        "    t.backends.cudnn.benchmark = True \n",
        "    device = t.device(\"cuda\")\n",
        "else:\n",
        "    device = t.device(\"cpu\")\n",
        "    print('No GPU')"
      ],
      "execution_count": 2,
      "outputs": [
        {
          "output_type": "stream",
          "text": [
            "PyTorch version: 1.7.0+cu101\n",
            "Device  0 : Tesla T4\n",
            "Current: Device  0\n"
          ],
          "name": "stdout"
        }
      ]
    },
    {
      "cell_type": "markdown",
      "metadata": {
        "id": "GITj7KHlw6N2"
      },
      "source": [
        "## 1 Fair Performance Evaluation (5 points)\n",
        "We often compare and assess performances of different model architectures/parameters/hyperparameters. Note that the results are differnt even if you re-run exactly the same code block. This is primarily due to a non-fixed random number seed. Please:\n",
        "\n",
        "(1) run the section 1.2 TEN times and report (a) min, (b) max, (c) mean, & (d) standard deviation of the TESTING accuracies. (3 points)\n",
        "\n",
        "(2) try to fix the random number seeds in numpy & pytorch to see if you can obtain the same results every time in the section 1.2. (2 points)"
      ]
    },
    {
      "cell_type": "markdown",
      "metadata": {
        "id": "oFY_Lrlxw6N2"
      },
      "source": [
        "### 1.0 CIFAR-10 dataset"
      ]
    },
    {
      "cell_type": "code",
      "metadata": {
        "colab": {
          "base_uri": "https://localhost:8080/",
          "height": 83,
          "referenced_widgets": [
            "8c0a2e54b1b841759ca45412380779a3",
            "8e160573d049420780c69de87e4b642f",
            "91f74f87f3be4ec094e0eab66e8be903",
            "8cfb0c0157a54e6d80b6368378a012c9",
            "42363af442d84ab9b748562db1e1a392",
            "a89a5b3748554d9b810f51c45dcba659",
            "d1476635ef8547f2ae90cb26e2074452",
            "756f473eb76647b1b020dc035d7432b1"
          ]
        },
        "id": "Bw18_nuyw6N2",
        "outputId": "1d6b7098-8a3c-4af7-a10e-093ba6d242b7"
      },
      "source": [
        "# Load the dataset:\n",
        "import torchvision.transforms as transforms\n",
        "from torchvision.datasets import CIFAR10\n",
        "train_set = CIFAR10(root='.', train=True, transform=transforms.ToTensor(), download=True)\n",
        "train_data = t.utils.data.DataLoader(train_set, batch_size=32, shuffle=True)\n",
        "test_set = CIFAR10(root='.', train=False, transform=transforms.ToTensor())\n",
        "test_data = t.utils.data.DataLoader(train_set, batch_size=1000, shuffle=True)\n",
        "classes = ('plane', 'car', 'bird', 'cat', 'deer', 'dog', 'frog', 'horse', 'ship', 'truck')"
      ],
      "execution_count": 3,
      "outputs": [
        {
          "output_type": "stream",
          "text": [
            "Downloading https://www.cs.toronto.edu/~kriz/cifar-10-python.tar.gz to ./cifar-10-python.tar.gz\n"
          ],
          "name": "stdout"
        },
        {
          "output_type": "display_data",
          "data": {
            "application/vnd.jupyter.widget-view+json": {
              "model_id": "8c0a2e54b1b841759ca45412380779a3",
              "version_minor": 0,
              "version_major": 2
            },
            "text/plain": [
              "HBox(children=(FloatProgress(value=1.0, bar_style='info', max=1.0), HTML(value='')))"
            ]
          },
          "metadata": {
            "tags": []
          }
        },
        {
          "output_type": "stream",
          "text": [
            "Extracting ./cifar-10-python.tar.gz to .\n"
          ],
          "name": "stdout"
        }
      ]
    },
    {
      "cell_type": "markdown",
      "metadata": {
        "id": "0gGmOzfmw6N2"
      },
      "source": [
        "### 1.1 The model"
      ]
    },
    {
      "cell_type": "code",
      "metadata": {
        "id": "p7we64Ysw6N2"
      },
      "source": [
        "# Make the model:\n",
        "import torch.nn as nn\n",
        "import torch.nn.functional as F\n",
        "class Net(nn.Module):\n",
        "    def __init__(self):\n",
        "        super(Net, self).__init__() # = nn.Module.__init__(self)\n",
        "        self.conv1 = nn.Conv2d(3, 6, 5) # in, out, kernel\n",
        "        self.conv2 = nn.Conv2d(6, 16, 5) \n",
        "        self.fc1   = nn.Linear(16*5*5, 120) \n",
        "        self.fc2   = nn.Linear(120, 84)\n",
        "        self.fc3   = nn.Linear(84, 10)\n",
        "    def forward(self, x): # functional expressions\n",
        "        x = F.max_pool2d(F.relu(self.conv1(x)), (2, 2))\n",
        "        x = F.max_pool2d(F.relu(self.conv2(x)), 2) \n",
        "        x = x.view(x.size()[0], -1) \n",
        "        x = F.relu(self.fc1(x))\n",
        "        x = F.relu(self.fc2(x))\n",
        "        x = self.fc3(x)        \n",
        "        return x\n",
        "lenet = Net()\n",
        "lenet = lenet.to(device)\n",
        "loss_fn = t.nn.CrossEntropyLoss()\n",
        "optimizer = t.optim.Adam(lenet.parameters())"
      ],
      "execution_count": 4,
      "outputs": []
    },
    {
      "cell_type": "markdown",
      "metadata": {
        "id": "a_I91Gy3w6N2"
      },
      "source": [
        "### 1.2 Training & Testing"
      ]
    },
    {
      "cell_type": "code",
      "metadata": {
        "colab": {
          "base_uri": "https://localhost:8080/"
        },
        "id": "3Jhys_QGw6N2",
        "outputId": "13457ed1-f5e4-43c1-e121-5f2c35918a57"
      },
      "source": [
        "# Training:\n",
        "for e in range(2):\n",
        "    for i, (X_train, Y_train) in enumerate(train_data, 0):\n",
        "        X_train,Y_train=X_train.to(device),Y_train.to(device)\n",
        "        Y_pred = lenet(X_train)\n",
        "        loss = loss_fn(Y_pred, Y_train)\n",
        "        lenet.zero_grad()\n",
        "        loss.backward()\n",
        "        optimizer.step()   \n",
        "        Y_pred = lenet(X_train)\n",
        "        Y_pred = t.max(Y_pred,1)[1]\n",
        "    print('epoch ',e,':',(Y_pred==Y_train).sum().item()/Y_train.shape[0])\n",
        "    \n",
        "# Testing on a batch:\n",
        "dataiter = iter(test_data)\n",
        "X_test, Y_test = dataiter.next() # returning a batch\n",
        "X_test,Y_test=X_test.to(device),Y_test.to(device)\n",
        "with t.no_grad():\n",
        "    Y_pred = lenet(X_test)\n",
        "    Y_pred = t.max(Y_pred,1)[1]\n",
        "    print('test :',(Y_pred==Y_test).sum().item()/Y_test.shape[0])"
      ],
      "execution_count": 7,
      "outputs": [
        {
          "output_type": "stream",
          "text": [
            "epoch  0 : 0.375\n",
            "epoch  1 : 0.5625\n",
            "test : 0.521\n"
          ],
          "name": "stdout"
        }
      ]
    },
    {
      "cell_type": "markdown",
      "metadata": {
        "id": "XypbX7Klw6N2"
      },
      "source": [
        "### 1.3 Your answers"
      ]
    },
    {
      "cell_type": "markdown",
      "metadata": {
        "id": "ZnVj79_DP8JK"
      },
      "source": [
        "方便起見，下方我重新將老師的範例程式包在 class 中。"
      ]
    },
    {
      "cell_type": "code",
      "metadata": {
        "id": "pZtVKTCM2cuN"
      },
      "source": [
        "class Simulation:\n",
        "  def __init__(self):\n",
        "    self.train_acc = None\n",
        "    self.test_acc = None\n",
        "    self.times = None\n",
        "  \n",
        "  def run_simulation(self, times=1, random_seed=None):\n",
        "    self.train_acc, self.test_acc = np.zeros(times), np.zeros(times)\n",
        "    self.times = times\n",
        "\n",
        "    for time in range(times):   \n",
        "      if random_seed is not None:\n",
        "        t.manual_seed(random_seed)\n",
        "        t.cuda.manual_seed(random_seed)\n",
        "        t.cuda.manual_seed_all(random_seed)  # if you are using multi-GPU.\n",
        "        #np.random.seed(seed)  # Numpy module.\n",
        "        #random.seed(seed)  # Python random module.\n",
        "        #t.manual_seed(seed)\n",
        "        t.backends.cudnn.benchmark = False\n",
        "        t.backends.cudnn.deterministic = True\n",
        "        # ref: https://github.com/pytorch/pytorch/issues/7068#issuecomment-679568312\n",
        "\n",
        "      # Built model:\n",
        "      lenet = Net()\n",
        "      lenet = lenet.to(device)\n",
        "      loss_fn = t.nn.CrossEntropyLoss()\n",
        "      optimizer = t.optim.Adam(lenet.parameters())\n",
        "\n",
        "      # Training:\n",
        "      for e in range(2):\n",
        "        for i, (X_train, Y_train) in enumerate(train_data, 0):\n",
        "          X_train,Y_train=X_train.to(device),Y_train.to(device)\n",
        "          Y_pred = lenet(X_train)\n",
        "          loss = loss_fn(Y_pred, Y_train)\n",
        "          lenet.zero_grad()\n",
        "          loss.backward()\n",
        "          optimizer.step()   \n",
        "          Y_pred = lenet(X_train)\n",
        "          Y_pred = t.max(Y_pred,1)[1]\n",
        "        # print('epoch ',e,':',(Y_pred==Y_train).sum().item()/Y_train.shape[0])\n",
        "      self.train_acc[time] = ((Y_pred==Y_train).sum().item()/Y_train.shape[0])\n",
        "        \n",
        "      # Testing on a batch:\n",
        "      dataiter = iter(test_data)\n",
        "      X_test, Y_test = dataiter.next() # returning a batch\n",
        "      X_test,Y_test=X_test.to(device),Y_test.to(device)\n",
        "      with t.no_grad():\n",
        "        Y_pred = lenet(X_test)\n",
        "        Y_pred = t.max(Y_pred,1)[1]\n",
        "        # print('test :',(Y_pred==Y_test).sum().item()/Y_test.shape[0])\n",
        "      self.test_acc[time] = ((Y_pred==Y_test).sum().item()/Y_test.shape[0])\n",
        "\n",
        "  def print_result(self):\n",
        "    print(tabulate([['N', self.times],\n",
        "            ['Min', self.test_acc.min()], \n",
        "            ['Mean', self.test_acc.mean()],\n",
        "            ['Max', self.test_acc.max()],\n",
        "            ['Standard deviaion', self.test_acc.std()]], \n",
        "            headers=['Statistic', 'Value'], tablefmt='orgtbl'))\n",
        "      "
      ],
      "execution_count": 10,
      "outputs": []
    },
    {
      "cell_type": "markdown",
      "metadata": {
        "id": "qnmSi8y2C2DJ"
      },
      "source": [
        "下方為隨機訓練模型重複 10 次(每次的 epoch 都只有 2)，不然發現每一次的 test accuracy 都是不一樣的。"
      ]
    },
    {
      "cell_type": "code",
      "metadata": {
        "colab": {
          "base_uri": "https://localhost:8080/"
        },
        "id": "DBQtBQ5Y5hC9",
        "outputId": "f86d870a-48ba-4ffd-e23c-3e28fe44c035"
      },
      "source": [
        "s_random = Simulation()\n",
        "s_random.run_simulation(times = 10)\n",
        "print(s_random.test_acc)\n",
        "s_random.print_result()"
      ],
      "execution_count": 8,
      "outputs": [
        {
          "output_type": "stream",
          "text": [
            "[0.512 0.527 0.471 0.524 0.527 0.55  0.483 0.521 0.517 0.516]\n",
            "| Statistic         |     Value |\n",
            "|-------------------+-----------|\n",
            "| N                 | 10        |\n",
            "| Min               |  0.471    |\n",
            "| Mean              |  0.5148   |\n",
            "| Max               |  0.55     |\n",
            "| Standard deviaion |  0.021456 |\n"
          ],
          "name": "stdout"
        }
      ]
    },
    {
      "cell_type": "markdown",
      "metadata": {
        "id": "GjIxBn0QC3Rn"
      },
      "source": [
        "如果我們給予固定的 random seed 數值，就能得到相同的結果。\n",
        "\n",
        "**註：**這邊可能需要注意 PyTorch random seed 的寫法，可能需要考慮到再現同樣的結果時，不同人可能是用 CPU 或是 GPU 跑。詳細寫法可以參考：https://github.com/pytorch/pytorch/issues/7068#issuecomment-679568312"
      ]
    },
    {
      "cell_type": "code",
      "metadata": {
        "id": "MsD-E-dsPcvN",
        "colab": {
          "base_uri": "https://localhost:8080/"
        },
        "outputId": "1edd4a8e-8466-4151-f42e-9a4df9300c8e"
      },
      "source": [
        "s_fixed = Simulation()\n",
        "s_fixed.run_simulation(times = 10, random_seed = 6666)\n",
        "print(s_fixed.test_acc)\n",
        "s_fixed.print_result()"
      ],
      "execution_count": 13,
      "outputs": [
        {
          "output_type": "stream",
          "text": [
            "[0.547 0.547 0.547 0.547 0.547 0.547 0.547 0.547 0.547 0.547]\n",
            "| Statistic         |        Value |\n",
            "|-------------------+--------------|\n",
            "| N                 | 10           |\n",
            "| Min               |  0.547       |\n",
            "| Mean              |  0.547       |\n",
            "| Max               |  0.547       |\n",
            "| Standard deviaion |  1.11022e-16 |\n"
          ],
          "name": "stdout"
        }
      ]
    },
    {
      "cell_type": "markdown",
      "metadata": {
        "id": "dGLD387gw6N2"
      },
      "source": [
        "## 2 Universal Approximation Theorem (5 points)\n",
        "\n",
        "Please FAIRLY evaluate whether a deep network learns XOR more efficiently than a shallow network with the same number of model parameters. Please discuss why in either case."
      ]
    },
    {
      "cell_type": "markdown",
      "metadata": {
        "id": "1NFQAPy5w6N2"
      },
      "source": [
        "### 2.0 XOR data"
      ]
    },
    {
      "cell_type": "code",
      "metadata": {
        "colab": {
          "base_uri": "https://localhost:8080/",
          "height": 265
        },
        "id": "LJ3CxEVTw6N2",
        "outputId": "b480e017-1411-4991-8761-1f65c62b70d3"
      },
      "source": [
        "N=1000 # samples per cluster\n",
        "XY=t.tensor([[5,5],[5,10],[10,5],[10,10]],dtype=t.float32) # 4 cluster centers\n",
        "Z=t.tensor([0,1,1,0]) # category labels\n",
        "t.cat([t.randn(2,1)+XY[0,0],t.randn(2,1)+XY[0,1]],1)\n",
        "xy,z=t.zeros(4*N,2),t.zeros(4*N,dtype=t.int64)\n",
        "for i in range(4):\n",
        "    xy[i*N:(i+1)*N,]=t.rand(N,2)+XY[i,]\n",
        "    z[i*N:(i+1)*N]=Z[i]\n",
        "xy_np=xy.numpy()\n",
        "z_np=z.numpy().astype(int)\n",
        "cmap=np.array([[1,0,0],[0,1,0]])\n",
        "scatter(xy_np[:,0],xy_np[:,1],color=cmap[z_np]);"
      ],
      "execution_count": 14,
      "outputs": [
        {
          "output_type": "display_data",
          "data": {
            "image/png": "[encoded data removed]",
            "text/plain": [
              "<Figure size 432x288 with 1 Axes>"
            ]
          },
          "metadata": {
            "tags": [],
            "needs_background": "light"
          }
        }
      ]
    },
    {
      "cell_type": "markdown",
      "metadata": {
        "id": "KhUCdygXw6N3"
      },
      "source": [
        "#### 2.1 A shallow net with one hidden layer"
      ]
    },
    {
      "cell_type": "code",
      "metadata": {
        "id": "1BfeCaX_w6N3"
      },
      "source": [
        "# Number of free parameters: 2*H+H*2=48\n",
        "\n",
        "H=12 # number of hidden units\n",
        "model = t.nn.Sequential(\n",
        "    t.nn.Linear(2, H, bias=False),\n",
        "    t.nn.BatchNorm1d(H),\n",
        "    t.nn.ReLU(),\n",
        "    t.nn.Linear(H, 2, bias=False),\n",
        "    t.nn.Softmax(dim=1)\n",
        ")\n",
        "loss_fn = t.nn.CrossEntropyLoss()\n",
        "optimizer = t.optim.Adam(model.parameters())\n",
        "\n",
        "for i in range(100):\n",
        "    z_pred = model(xy)\n",
        "    loss = loss_fn(z_pred,z)\n",
        "    model.zero_grad()\n",
        "    loss.backward()\n",
        "    optimizer.step()\n",
        "    z_pred = model(xy) \n",
        "    z_pred = t.max(z_pred,1)[1]\n",
        "    print('epoch ',i,':',(z_pred==z).sum().item()/xy.shape[0])"
      ],
      "execution_count": null,
      "outputs": []
    },
    {
      "cell_type": "markdown",
      "metadata": {
        "id": "PA-AlAcuw6N3"
      },
      "source": [
        "#### 2.2 A \"deep\" net with three hidden layers"
      ]
    },
    {
      "cell_type": "code",
      "metadata": {
        "colab": {
          "base_uri": "https://localhost:8080/"
        },
        "id": "ICDHSR5p3Ls5",
        "outputId": "3de0efc3-87b6-44f9-e5a9-c7ae17a8e7ba"
      },
      "source": [
        "\n",
        "print(model.parameters(\"Linear\"))"
      ],
      "execution_count": 39,
      "outputs": [
        {
          "output_type": "stream",
          "text": [
            "<generator object Module.parameters at 0x7f02ae05f4c0>\n"
          ],
          "name": "stdout"
        }
      ]
    },
    {
      "cell_type": "code",
      "metadata": {
        "id": "TvGT0X_5w6N3"
      },
      "source": [
        "# Number of free parameters: 2*H+H*H+H*H+H*2=48\n",
        "\n",
        "H=4 # number of hidden units\n",
        "model = t.nn.Sequential(\n",
        "    t.nn.Linear(2, H, bias=False),\n",
        "    t.nn.BatchNorm1d(H),\n",
        "    t.nn.ReLU(),\n",
        "    t.nn.Linear(H, H,bias=False),\n",
        "    t.nn.BatchNorm1d(H),\n",
        "    t.nn.ReLU(),\n",
        "    t.nn.Linear(H, H, bias=False),\n",
        "    t.nn.BatchNorm1d(H),\n",
        "    t.nn.ReLU(),\n",
        "    t.nn.Linear(H, 2, bias=False),\n",
        "    t.nn.Softmax(dim=1)\n",
        ")\n",
        "loss_fn = t.nn.CrossEntropyLoss()\n",
        "optimizer = t.optim.Adam(model.parameters())\n",
        "\n",
        "for i in range(100):\n",
        "    z_pred = model(xy)\n",
        "    loss = loss_fn(z_pred,z)\n",
        "    model.zero_grad()\n",
        "    loss.backward()\n",
        "    optimizer.step()\n",
        "    z_pred = model(xy) \n",
        "    z_pred = t.max(z_pred,1)[1]\n",
        "    print('epoch ',i,':',(z_pred==z).sum().item()/xy.shape[0])"
      ],
      "execution_count": null,
      "outputs": []
    },
    {
      "cell_type": "markdown",
      "metadata": {
        "id": "vI6d5RYqw6N3"
      },
      "source": [
        "### 2.3 Your answers"
      ]
    },
    {
      "cell_type": "markdown",
      "metadata": {
        "id": "CP94jHu0w6N3"
      },
      "source": [
        "#### 2.3.1 Shallow NN vs. Deep NN 之模擬比較\n",
        "\n",
        "同樣也是方便起見，我將老師的範例程式重新包成一個 class 來執行，但為了比較兩者模型的學習效率，因此我有更改部分的程式碼。"
      ]
    },
    {
      "cell_type": "code",
      "metadata": {
        "id": "XOqG44XZROf7"
      },
      "source": [
        "class XORmodel:\n",
        "  def __init__(self):\n",
        "    self.shallow_times, self.shallow_epochs, self.shallow_accs = None, None, None\n",
        "    self.deep_times, self.deep_epochs, self.deep_accs = None, None, None\n",
        "  \n",
        "  def run_shallow_nn(self, times = 10):\n",
        "    self.shallow_times = times\n",
        "    self.shallow_epochs = np.zeros(times)\n",
        "    self.shallow_accs = np.zeros(times)\n",
        "\n",
        "    for time in range(times):\n",
        "      # Number of free parameters: 2*H+H*2=48\n",
        "      H=12 # number of hidden units\n",
        "      model = t.nn.Sequential(\n",
        "        t.nn.Linear(2, H, bias=False),\n",
        "        t.nn.BatchNorm1d(H),\n",
        "        t.nn.ReLU(),\n",
        "        t.nn.Linear(H, 2, bias=False),\n",
        "        t.nn.Softmax(dim=1)\n",
        "      )\n",
        "      loss_fn = t.nn.CrossEntropyLoss()\n",
        "      optimizer = t.optim.Adam(model.parameters())\n",
        "\n",
        "      acc = 0\n",
        "      epoch = 0\n",
        "      while (acc < 1) and (epoch < 500) :\n",
        "        z_pred = model(xy)\n",
        "        loss = loss_fn(z_pred,z)\n",
        "        model.zero_grad()\n",
        "        loss.backward()\n",
        "        optimizer.step()\n",
        "        z_pred = model(xy) \n",
        "        z_pred = t.max(z_pred,1)[1]\n",
        "        acc = (z_pred==z).sum().item()/xy.shape[0]\n",
        "        epoch += 1\n",
        "      \n",
        "      self.shallow_epochs[time] = epoch\n",
        "      self.shallow_accs[time] = acc\n",
        "\n",
        "\n",
        "  def run_deep_nn(self, times = 10):\n",
        "    self.deep_times = times\n",
        "    self.deep_epochs = np.zeros(times)\n",
        "    self.deep_accs = np.zeros(times)\n",
        "\n",
        "    for time in range(times):\n",
        "      # Number of free parameters: 2*H+H*H+H*H+H*2=48\n",
        "      H=4 # number of hidden units\n",
        "      model = t.nn.Sequential(\n",
        "        t.nn.Linear(2, H, bias=False),\n",
        "        t.nn.BatchNorm1d(H),\n",
        "        t.nn.ReLU(),\n",
        "        t.nn.Linear(H, H,bias=False),\n",
        "        t.nn.BatchNorm1d(H),\n",
        "        t.nn.ReLU(),\n",
        "        t.nn.Linear(H, H, bias=False),\n",
        "        t.nn.BatchNorm1d(H),\n",
        "        t.nn.ReLU(),\n",
        "        t.nn.Linear(H, 2, bias=False),\n",
        "        t.nn.Softmax(dim=1)\n",
        "      )\n",
        "      loss_fn = t.nn.CrossEntropyLoss()\n",
        "      optimizer = t.optim.Adam(model.parameters())\n",
        "\n",
        "      acc = 0\n",
        "      epoch = 0\n",
        "      while (acc < 1) and (epoch < 500):\n",
        "        z_pred = model(xy)\n",
        "        loss = loss_fn(z_pred,z)\n",
        "        model.zero_grad()\n",
        "        loss.backward()\n",
        "        optimizer.step()\n",
        "        z_pred = model(xy) \n",
        "        z_pred = t.max(z_pred,1)[1]\n",
        "        acc = (z_pred==z).sum().item()/xy.shape[0]\n",
        "        epoch += 1\n",
        "\n",
        "      self.deep_epochs[time] = epoch\n",
        "      self.deep_accs[time] = acc\n",
        "\n",
        "  def print_result(self):\n",
        "    print(tabulate([['N', self.shallow_times, self.shallow_times, self.deep_times, self.deep_times],\n",
        "            ['N epoch>=500 (acc<1.0)', sum(self.shallow_epochs>=500), sum(self.shallow_epochs>=500), sum(self.deep_epochs>=500), sum(self.deep_epochs>=500)],\n",
        "            ['Min', self.shallow_epochs.min(), self.shallow_accs.min(), self.deep_epochs.min(), self.deep_accs.min()], \n",
        "            ['Mean', self.shallow_epochs.mean(), self.shallow_accs.mean(), self.deep_epochs.mean(), self.deep_accs.mean()],\n",
        "            ['Max', self.shallow_epochs.max(), self.shallow_accs.max(), self.deep_epochs.max(), self.deep_accs.max()],\n",
        "            ['Standard deviaion', self.shallow_epochs.std(), self.shallow_accs.std(), self.deep_epochs.std(), self.deep_accs.std()]], \n",
        "            headers=['Statistic', 'Shallow NN Epoch Number\\n (censoring at 500)', 'Shallow NN Accuracy',  \n",
        "                 'Deep NN Epoch Number\\n (censoring at 500)', 'Deep NN Accuracy'], tablefmt='orgtbl'))"
      ],
      "execution_count": 16,
      "outputs": []
    },
    {
      "cell_type": "markdown",
      "metadata": {
        "id": "ukJKnveeJw_0"
      },
      "source": [
        "為了達到公平的判準，我將在 Shallow NN 與 Deep NN 分別跑 50 次，並且記錄每次學習需要多少次 epoch 才能達到準確率 100%，然而我還多加限定最多只能跑到 500 次 epoch，避免浪費太多時間。結果如下\n"
      ]
    },
    {
      "cell_type": "code",
      "metadata": {
        "colab": {
          "base_uri": "https://localhost:8080/"
        },
        "id": "mMiAGvhRTSsO",
        "outputId": "36f3c55b-c227-49c5-acef-baa2674a8688"
      },
      "source": [
        "t.manual_seed(7777)\n",
        "x = XORmodel()\n",
        "x.run_shallow_nn(times = 50)\n",
        "x.run_deep_nn(times = 50)\n",
        "x.print_result()"
      ],
      "execution_count": 32,
      "outputs": [
        {
          "output_type": "stream",
          "text": [
            "| Statistic              |   Shallow NN Epoch Number |   Shallow NN Accuracy |   Deep NN Epoch Number |   Deep NN Accuracy |\n",
            "|                        |        (censoring at 500) |                       |     (censoring at 500) |                    |\n",
            "|------------------------+---------------------------+-----------------------+------------------------+--------------------|\n",
            "| N                      |                    50     |            50         |                 50     |          50        |\n",
            "| N epoch>=500 (acc<1.0) |                     3     |             3         |                 16     |          16        |\n",
            "| Min                    |                     1     |             0.75      |                 14     |           0.5      |\n",
            "| Mean                   |                   126.96  |             0.993555  |                256.6   |           0.92492  |\n",
            "| Max                    |                   500     |             1         |                500     |           1        |\n",
            "| Standard deviaion      |                   112.903 |             0.0357221 |                182.455 |           0.143573 |\n"
          ],
          "name": "stdout"
        }
      ]
    },
    {
      "cell_type": "markdown",
      "metadata": {
        "id": "I3XGwsiNqHg5"
      },
      "source": [
        "從上表觀察中可發現，這兩種模型確實在 XOR 的問題上達到 100% 的準確率。然而就學習效率來說，在同樣的參數數目 (weights 各自都有 48 個且沒有 biaw parameter) 與超參數設定下，Shallow NN 學習的效率快於 Deep NN，前者的平均 epoch 數量比較小 (126.96<256.6) 且就平均準確率也較高 (0.99>0.92)。應該不需要做假設檢定就能發現之間是有明顯差異的\n",
        "\n",
        "雖然說這兩者都有可能迭代到 500 epochs 時準確率依舊還達不到 100%，但在 50 次模擬中， Shallow NN 只有 3 個未完成，而 Deep NN 就有 1/3 次(= 16 次)是失敗的。因此總結來說，Shallow NN 在此問題上要比 Deep NN 來的好。"
      ]
    },
    {
      "cell_type": "markdown",
      "metadata": {
        "id": "pfgwcuSTMsRc"
      },
      "source": [
        "#### 2.3.2 原因探討：\n",
        "\n",
        "同樣是 XOR 問題，我簡化原本題目給定的設定。假設 $X = (x)_{n \\times 2}\\in \\{0, 1\\}^{n \\times 2}$ 為 input data, $Y = (y)_{n \\times 2} \\in \\{0, 1\\}^{n \\times 2}$ 為 output data。 其中 Shallow NN 與 Deep NN 可以寫成\n",
        "\n",
        "Shallow NN：\n",
        "\n",
        "$$\n",
        "\\begin{align}\n",
        "\\underset{n \\times 12}Z^{(1)} &= f^{(1)}(\\underset{n \\times 2}X \\, \\underset{2 \\times 12}W^{(1)}) \\\\\n",
        "\\underset{n \\times 2}{Y} &= s(\\underset{n \\times 12}Z^{(1)}\\underset{12 \\times 2}W^{(2)})\n",
        "\\end{align}\n",
        "$$\n",
        "\n",
        "Deep NN:\n",
        "\n",
        "$$\n",
        "\\begin{align}\n",
        "\\underset{n \\times 4}Z^{(1)} &= f^{(1)}(\\underset{n \\times 2}X \\, \\underset{2 \\times 4}W^{(1)}) \\\\\n",
        "\\underset{n \\times 4}Z^{(2)} &= f^{(2)}(\\underset{n \\times 4}Z^{(1)}\\underset{4 \\times 4}W^{(2)}) \\\\\n",
        "\\underset{n \\times 4}Z^{(3)} &= f^{(3)}(\\underset{n \\times 4}Z^{(2)}\\underset{4 \\times 4}W^{(3)}) \\\\\n",
        "\\underset{n \\times 2}Y &= s(\\underset{n \\times 4}Z^{(3)}\\underset{4 \\times 4}W^{(4)})\n",
        "\\end{align}\n",
        "$$\n",
        "\n",
        "其中 $Z$ 為隱藏層的輸出，$f_1(.), f_2(.), f_3()$ 皆為 ReLU function, $s(.)$ 為 softmax function。實際上這兩個模型可再寫為\n",
        "\n",
        "Shallow NN:\n",
        "\n",
        "$$\n",
        "\\begin{align}\n",
        "Y &= g(X) = g(x_1, x_2) \\\\\n",
        "&= s\\left(\\sum_{j=1}^{12} w_j^{(2)} \\times f_{j}^{(1)}(\\sum_{i=2}^2 w_{ji}^{(1)}x_i)\\right)\n",
        "\\end{align}\n",
        "$$\n",
        "\n",
        "Deep NN:\n",
        "\n",
        "$$\n",
        "\\begin{align}\n",
        "Y &= g'(X) = g'(x_1, x_2) \\\\\n",
        "&= s\\left(\\sum_{l=1}^{4} w_{l}^{(4)} \\times f_{l}^{(3)}(\\sum_{k=1}^{4} w_{lk}^{(3)} \\times f_{k}^{(2)}(\\sum_{j=1}^{4} w_{kj}^{(2)}\\times f_{j}^{(1)}(\\sum_{i=2}^2 w_{ji}^{(1)}x_i)))\\right)\n",
        "\\end{align}\n",
        "$$\n",
        "\n",
        "雖然寫的「落落長」，但我想表達的是這兩種神經網路模型，其實在做的就是要去估計 $X$ 和 $Y$ 之間的對應關係，也就是上式中的 $g: X \\mapsto Y$ 和 $g': X \\mapsto Y$。若我們先忽略掉 softmax function 和 batch normalized 的部分，兩者之間的差異在於 shallow NN 中的 $X$ 只經過一次的非線性的轉換，而 deep NN 中的 $X$ 卻經過三次的非線性轉換。我們可以想像 deep NN 應該能比 shallow NN 更可以描繪出更複雜的 $X$ 之間的關係，例如 $X$ 之間的交互作用或是高次項...等，因此很容易去建立 $X$ $Y$ 之間複雜的函數關係，這也是為何現今大家比較偏好 deep NN 的原因之一(ref: https://stats.stackexchange.com/questions/182734/what-is-the-difference-between-a-neural-network-and-a-deep-neural-network-and-w)。\n",
        "\n",
        "然而其代價就是，deep NN 面對較簡易的情境，像是這次的 XOR 分類問題，太複雜的模型結構 (一堆非線性轉換) 可能會使得學習效率較差，參數在迭代更新時可能落入區域極值，或是需要較長的時間將複雜的數學形式轉回簡單的對應關係。反而不像 shallow NN 要來的簡單明瞭，因此，在這此作業中可以發現 shallow NN 會學得比較快。當然，如果參數以及學習時間充裕的話，根據 Universal approximation theorem，兩者應該都能學得很好。\n",
        "\n",
        "Shallow NN 圖示範例：\n",
        "\n",
        "<img src=\"https://github.com/xup6y3ul6/Neural-and-Behavioral-Modeling/blob/main/12_Deep-learning%20Neural%20Networks%20(2-4)%20Convolutional%20Neural%20Network%20(CNN)/snn.png?raw=true\" alt=\"drawing\" width=\"500\"/>\n",
        "\n",
        "\n",
        "Deep NN 圖示範例：(可以注意三層隱藏層，其對 $X$ 的表徵越來越複雜)\n",
        "\n",
        "<img src=\"https://github.com/xup6y3ul6/Neural-and-Behavioral-Modeling/blob/main/12_Deep-learning%20Neural%20Networks%20(2-4)%20Convolutional%20Neural%20Network%20(CNN)/dnn.png?raw=true\" alt=\"drawing\" width=\"500\"/>\n",
        "\n",
        "Deep NN 圖示失敗範例：\n",
        "\n",
        "<img src=\"https://github.com/xup6y3ul6/Neural-and-Behavioral-Modeling/blob/main/12_Deep-learning%20Neural%20Networks%20(2-4)%20Convolutional%20Neural%20Network%20(CNN)/dnn_fail.png?raw=true\" alt=\"drawing\" width=\"500\"/>\n",
        "\n",
        "可參考下方網站模擬：\n",
        "\n",
        "- [A Neural Network Playground](https://playground.tensorflow.org/#activation=tanh&batchSize=10&dataset=circle&regDataset=reg-plane&learningRate=0.03&regularizationRate=0&noise=0&networkShape=4,2&seed=0.83918&showTestData=false&discretize=false&percTrainData=50&x=true&y=true&xTimesY=false&xSquared=false&ySquared=false&cosX=false&sinX=false&cosY=false&sinY=false&collectStats=false&problem=classification&initZero=false&hideText=false) $\\leftarrow\\leftarrow$ 感謝劉昱維介紹！\n",
        "- [Neural Network demo — Preset: Binary Classifier for XOR](https://phiresky.github.io/neural-network-demo/)\n",
        "\n"
      ]
    }
  ]
}